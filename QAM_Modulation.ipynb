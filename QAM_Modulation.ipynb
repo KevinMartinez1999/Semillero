{
  "nbformat": 4,
  "nbformat_minor": 0,
  "metadata": {
    "colab": {
      "provenance": [],
      "authorship_tag": "ABX9TyN8OfpzWoWwmlc0HbVSBsn9",
      "include_colab_link": true
    },
    "kernelspec": {
      "name": "python3",
      "display_name": "Python 3"
    },
    "language_info": {
      "name": "python"
    }
  },
  "cells": [
    {
      "cell_type": "markdown",
      "metadata": {
        "id": "view-in-github",
        "colab_type": "text"
      },
      "source": [
        "<a href=\"https://colab.research.google.com/github/KevinMartinez1999/Machine_Learning/blob/develop/QAM_Modulation.ipynb\" target=\"_parent\"><img src=\"https://colab.research.google.com/assets/colab-badge.svg\" alt=\"Open In Colab\"/></a>"
      ]
    },
    {
      "cell_type": "markdown",
      "source": [
        "# QAM_Modulation"
      ],
      "metadata": {
        "id": "TOvwvtkkgXol"
      }
    },
    {
      "cell_type": "code",
      "execution_count": 1,
      "metadata": {
        "id": "N4QZE7EkgUmE"
      },
      "outputs": [],
      "source": [
        "import pandas as pd\n",
        "import numpy as np\n",
        "import matplotlib.pyplot as plt\n",
        "import matplotlib.image as mpimg"
      ]
    },
    {
      "cell_type": "code",
      "source": [
        "Ns = 100000\n",
        "Mod = 16 #16QAM\n",
        "Symbols_tx = np.random.randint(Mod, size = Ns)\n",
        "df_sym_tx = pd.DataFrame(Symbols_tx)\n",
        "df_sym_tx.head(10)"
      ],
      "metadata": {
        "colab": {
          "base_uri": "https://localhost:8080/",
          "height": 363
        },
        "id": "3191FiQDgW5s",
        "outputId": "fea6c1ce-d603-415a-ea5b-4996150d5714"
      },
      "execution_count": 2,
      "outputs": [
        {
          "output_type": "execute_result",
          "data": {
            "text/plain": [
              "    0\n",
              "0   8\n",
              "1  14\n",
              "2   2\n",
              "3  15\n",
              "4   1\n",
              "5  10\n",
              "6   8\n",
              "7   3\n",
              "8   6\n",
              "9   9"
            ],
            "text/html": [
              "\n",
              "  <div id=\"df-8b068a64-ab74-42f5-8790-c7c2e9e18bb4\">\n",
              "    <div class=\"colab-df-container\">\n",
              "      <div>\n",
              "<style scoped>\n",
              "    .dataframe tbody tr th:only-of-type {\n",
              "        vertical-align: middle;\n",
              "    }\n",
              "\n",
              "    .dataframe tbody tr th {\n",
              "        vertical-align: top;\n",
              "    }\n",
              "\n",
              "    .dataframe thead th {\n",
              "        text-align: right;\n",
              "    }\n",
              "</style>\n",
              "<table border=\"1\" class=\"dataframe\">\n",
              "  <thead>\n",
              "    <tr style=\"text-align: right;\">\n",
              "      <th></th>\n",
              "      <th>0</th>\n",
              "    </tr>\n",
              "  </thead>\n",
              "  <tbody>\n",
              "    <tr>\n",
              "      <th>0</th>\n",
              "      <td>8</td>\n",
              "    </tr>\n",
              "    <tr>\n",
              "      <th>1</th>\n",
              "      <td>14</td>\n",
              "    </tr>\n",
              "    <tr>\n",
              "      <th>2</th>\n",
              "      <td>2</td>\n",
              "    </tr>\n",
              "    <tr>\n",
              "      <th>3</th>\n",
              "      <td>15</td>\n",
              "    </tr>\n",
              "    <tr>\n",
              "      <th>4</th>\n",
              "      <td>1</td>\n",
              "    </tr>\n",
              "    <tr>\n",
              "      <th>5</th>\n",
              "      <td>10</td>\n",
              "    </tr>\n",
              "    <tr>\n",
              "      <th>6</th>\n",
              "      <td>8</td>\n",
              "    </tr>\n",
              "    <tr>\n",
              "      <th>7</th>\n",
              "      <td>3</td>\n",
              "    </tr>\n",
              "    <tr>\n",
              "      <th>8</th>\n",
              "      <td>6</td>\n",
              "    </tr>\n",
              "    <tr>\n",
              "      <th>9</th>\n",
              "      <td>9</td>\n",
              "    </tr>\n",
              "  </tbody>\n",
              "</table>\n",
              "</div>\n",
              "      <button class=\"colab-df-convert\" onclick=\"convertToInteractive('df-8b068a64-ab74-42f5-8790-c7c2e9e18bb4')\"\n",
              "              title=\"Convert this dataframe to an interactive table.\"\n",
              "              style=\"display:none;\">\n",
              "        \n",
              "  <svg xmlns=\"http://www.w3.org/2000/svg\" height=\"24px\"viewBox=\"0 0 24 24\"\n",
              "       width=\"24px\">\n",
              "    <path d=\"M0 0h24v24H0V0z\" fill=\"none\"/>\n",
              "    <path d=\"M18.56 5.44l.94 2.06.94-2.06 2.06-.94-2.06-.94-.94-2.06-.94 2.06-2.06.94zm-11 1L8.5 8.5l.94-2.06 2.06-.94-2.06-.94L8.5 2.5l-.94 2.06-2.06.94zm10 10l.94 2.06.94-2.06 2.06-.94-2.06-.94-.94-2.06-.94 2.06-2.06.94z\"/><path d=\"M17.41 7.96l-1.37-1.37c-.4-.4-.92-.59-1.43-.59-.52 0-1.04.2-1.43.59L10.3 9.45l-7.72 7.72c-.78.78-.78 2.05 0 2.83L4 21.41c.39.39.9.59 1.41.59.51 0 1.02-.2 1.41-.59l7.78-7.78 2.81-2.81c.8-.78.8-2.07 0-2.86zM5.41 20L4 18.59l7.72-7.72 1.47 1.35L5.41 20z\"/>\n",
              "  </svg>\n",
              "      </button>\n",
              "      \n",
              "  <style>\n",
              "    .colab-df-container {\n",
              "      display:flex;\n",
              "      flex-wrap:wrap;\n",
              "      gap: 12px;\n",
              "    }\n",
              "\n",
              "    .colab-df-convert {\n",
              "      background-color: #E8F0FE;\n",
              "      border: none;\n",
              "      border-radius: 50%;\n",
              "      cursor: pointer;\n",
              "      display: none;\n",
              "      fill: #1967D2;\n",
              "      height: 32px;\n",
              "      padding: 0 0 0 0;\n",
              "      width: 32px;\n",
              "    }\n",
              "\n",
              "    .colab-df-convert:hover {\n",
              "      background-color: #E2EBFA;\n",
              "      box-shadow: 0px 1px 2px rgba(60, 64, 67, 0.3), 0px 1px 3px 1px rgba(60, 64, 67, 0.15);\n",
              "      fill: #174EA6;\n",
              "    }\n",
              "\n",
              "    [theme=dark] .colab-df-convert {\n",
              "      background-color: #3B4455;\n",
              "      fill: #D2E3FC;\n",
              "    }\n",
              "\n",
              "    [theme=dark] .colab-df-convert:hover {\n",
              "      background-color: #434B5C;\n",
              "      box-shadow: 0px 1px 3px 1px rgba(0, 0, 0, 0.15);\n",
              "      filter: drop-shadow(0px 1px 2px rgba(0, 0, 0, 0.3));\n",
              "      fill: #FFFFFF;\n",
              "    }\n",
              "  </style>\n",
              "\n",
              "      <script>\n",
              "        const buttonEl =\n",
              "          document.querySelector('#df-8b068a64-ab74-42f5-8790-c7c2e9e18bb4 button.colab-df-convert');\n",
              "        buttonEl.style.display =\n",
              "          google.colab.kernel.accessAllowed ? 'block' : 'none';\n",
              "\n",
              "        async function convertToInteractive(key) {\n",
              "          const element = document.querySelector('#df-8b068a64-ab74-42f5-8790-c7c2e9e18bb4');\n",
              "          const dataTable =\n",
              "            await google.colab.kernel.invokeFunction('convertToInteractive',\n",
              "                                                     [key], {});\n",
              "          if (!dataTable) return;\n",
              "\n",
              "          const docLinkHtml = 'Like what you see? Visit the ' +\n",
              "            '<a target=\"_blank\" href=https://colab.research.google.com/notebooks/data_table.ipynb>data table notebook</a>'\n",
              "            + ' to learn more about interactive tables.';\n",
              "          element.innerHTML = '';\n",
              "          dataTable['output_type'] = 'display_data';\n",
              "          await google.colab.output.renderOutput(dataTable, element);\n",
              "          const docLink = document.createElement('div');\n",
              "          docLink.innerHTML = docLinkHtml;\n",
              "          element.appendChild(docLink);\n",
              "        }\n",
              "      </script>\n",
              "    </div>\n",
              "  </div>\n",
              "  "
            ]
          },
          "metadata": {},
          "execution_count": 2
        }
      ]
    },
    {
      "cell_type": "code",
      "source": [
        "mod_dict = {0:-3+3j, #0000\n",
        "            1:-3+1j, #0001\n",
        "            2:-3-3j, #0010\n",
        "            3:-3-1j, #0011\n",
        "            4:-1+3j, #0100\n",
        "            5:-1+1j, #0101\n",
        "            6:-1-3j, #0110\n",
        "            7:-1-1j, #0111\n",
        "            8:3+3j, #1000\n",
        "            9:3+1j, #1001\n",
        "            10:3-3j, #1010\n",
        "            11:3-1j, #1011\n",
        "            12:1+3j, #1100\n",
        "            13:1+1j, #1101\n",
        "            14:1-3j, #1110\n",
        "            15:1-1j} #1111"
      ],
      "metadata": {
        "id": "67WXEg-wgjll"
      },
      "execution_count": 3,
      "outputs": []
    },
    {
      "cell_type": "code",
      "source": [
        "#Modulación reemplazando símbolos por valores complejos (opción 1)\n",
        "df_sym_mod = df_sym_tx.replace(mod_dict)\n",
        "df_sym_mod.head(10)"
      ],
      "metadata": {
        "colab": {
          "base_uri": "https://localhost:8080/",
          "height": 363
        },
        "id": "RIyylHuPglns",
        "outputId": "bf3bfefd-d6d1-409b-8a08-24bccd0bb2f0"
      },
      "execution_count": 4,
      "outputs": [
        {
          "output_type": "execute_result",
          "data": {
            "text/plain": [
              "          0\n",
              "0  3.0+3.0j\n",
              "1  1.0-3.0j\n",
              "2 -3.0-3.0j\n",
              "3  1.0-1.0j\n",
              "4 -3.0+1.0j\n",
              "5  3.0-3.0j\n",
              "6  3.0+3.0j\n",
              "7 -3.0-1.0j\n",
              "8 -1.0-3.0j\n",
              "9  3.0+1.0j"
            ],
            "text/html": [
              "\n",
              "  <div id=\"df-2db32168-9a3a-4c42-a4ea-050dc357bc40\">\n",
              "    <div class=\"colab-df-container\">\n",
              "      <div>\n",
              "<style scoped>\n",
              "    .dataframe tbody tr th:only-of-type {\n",
              "        vertical-align: middle;\n",
              "    }\n",
              "\n",
              "    .dataframe tbody tr th {\n",
              "        vertical-align: top;\n",
              "    }\n",
              "\n",
              "    .dataframe thead th {\n",
              "        text-align: right;\n",
              "    }\n",
              "</style>\n",
              "<table border=\"1\" class=\"dataframe\">\n",
              "  <thead>\n",
              "    <tr style=\"text-align: right;\">\n",
              "      <th></th>\n",
              "      <th>0</th>\n",
              "    </tr>\n",
              "  </thead>\n",
              "  <tbody>\n",
              "    <tr>\n",
              "      <th>0</th>\n",
              "      <td>3.0+3.0j</td>\n",
              "    </tr>\n",
              "    <tr>\n",
              "      <th>1</th>\n",
              "      <td>1.0-3.0j</td>\n",
              "    </tr>\n",
              "    <tr>\n",
              "      <th>2</th>\n",
              "      <td>-3.0-3.0j</td>\n",
              "    </tr>\n",
              "    <tr>\n",
              "      <th>3</th>\n",
              "      <td>1.0-1.0j</td>\n",
              "    </tr>\n",
              "    <tr>\n",
              "      <th>4</th>\n",
              "      <td>-3.0+1.0j</td>\n",
              "    </tr>\n",
              "    <tr>\n",
              "      <th>5</th>\n",
              "      <td>3.0-3.0j</td>\n",
              "    </tr>\n",
              "    <tr>\n",
              "      <th>6</th>\n",
              "      <td>3.0+3.0j</td>\n",
              "    </tr>\n",
              "    <tr>\n",
              "      <th>7</th>\n",
              "      <td>-3.0-1.0j</td>\n",
              "    </tr>\n",
              "    <tr>\n",
              "      <th>8</th>\n",
              "      <td>-1.0-3.0j</td>\n",
              "    </tr>\n",
              "    <tr>\n",
              "      <th>9</th>\n",
              "      <td>3.0+1.0j</td>\n",
              "    </tr>\n",
              "  </tbody>\n",
              "</table>\n",
              "</div>\n",
              "      <button class=\"colab-df-convert\" onclick=\"convertToInteractive('df-2db32168-9a3a-4c42-a4ea-050dc357bc40')\"\n",
              "              title=\"Convert this dataframe to an interactive table.\"\n",
              "              style=\"display:none;\">\n",
              "        \n",
              "  <svg xmlns=\"http://www.w3.org/2000/svg\" height=\"24px\"viewBox=\"0 0 24 24\"\n",
              "       width=\"24px\">\n",
              "    <path d=\"M0 0h24v24H0V0z\" fill=\"none\"/>\n",
              "    <path d=\"M18.56 5.44l.94 2.06.94-2.06 2.06-.94-2.06-.94-.94-2.06-.94 2.06-2.06.94zm-11 1L8.5 8.5l.94-2.06 2.06-.94-2.06-.94L8.5 2.5l-.94 2.06-2.06.94zm10 10l.94 2.06.94-2.06 2.06-.94-2.06-.94-.94-2.06-.94 2.06-2.06.94z\"/><path d=\"M17.41 7.96l-1.37-1.37c-.4-.4-.92-.59-1.43-.59-.52 0-1.04.2-1.43.59L10.3 9.45l-7.72 7.72c-.78.78-.78 2.05 0 2.83L4 21.41c.39.39.9.59 1.41.59.51 0 1.02-.2 1.41-.59l7.78-7.78 2.81-2.81c.8-.78.8-2.07 0-2.86zM5.41 20L4 18.59l7.72-7.72 1.47 1.35L5.41 20z\"/>\n",
              "  </svg>\n",
              "      </button>\n",
              "      \n",
              "  <style>\n",
              "    .colab-df-container {\n",
              "      display:flex;\n",
              "      flex-wrap:wrap;\n",
              "      gap: 12px;\n",
              "    }\n",
              "\n",
              "    .colab-df-convert {\n",
              "      background-color: #E8F0FE;\n",
              "      border: none;\n",
              "      border-radius: 50%;\n",
              "      cursor: pointer;\n",
              "      display: none;\n",
              "      fill: #1967D2;\n",
              "      height: 32px;\n",
              "      padding: 0 0 0 0;\n",
              "      width: 32px;\n",
              "    }\n",
              "\n",
              "    .colab-df-convert:hover {\n",
              "      background-color: #E2EBFA;\n",
              "      box-shadow: 0px 1px 2px rgba(60, 64, 67, 0.3), 0px 1px 3px 1px rgba(60, 64, 67, 0.15);\n",
              "      fill: #174EA6;\n",
              "    }\n",
              "\n",
              "    [theme=dark] .colab-df-convert {\n",
              "      background-color: #3B4455;\n",
              "      fill: #D2E3FC;\n",
              "    }\n",
              "\n",
              "    [theme=dark] .colab-df-convert:hover {\n",
              "      background-color: #434B5C;\n",
              "      box-shadow: 0px 1px 3px 1px rgba(0, 0, 0, 0.15);\n",
              "      filter: drop-shadow(0px 1px 2px rgba(0, 0, 0, 0.3));\n",
              "      fill: #FFFFFF;\n",
              "    }\n",
              "  </style>\n",
              "\n",
              "      <script>\n",
              "        const buttonEl =\n",
              "          document.querySelector('#df-2db32168-9a3a-4c42-a4ea-050dc357bc40 button.colab-df-convert');\n",
              "        buttonEl.style.display =\n",
              "          google.colab.kernel.accessAllowed ? 'block' : 'none';\n",
              "\n",
              "        async function convertToInteractive(key) {\n",
              "          const element = document.querySelector('#df-2db32168-9a3a-4c42-a4ea-050dc357bc40');\n",
              "          const dataTable =\n",
              "            await google.colab.kernel.invokeFunction('convertToInteractive',\n",
              "                                                     [key], {});\n",
              "          if (!dataTable) return;\n",
              "\n",
              "          const docLinkHtml = 'Like what you see? Visit the ' +\n",
              "            '<a target=\"_blank\" href=https://colab.research.google.com/notebooks/data_table.ipynb>data table notebook</a>'\n",
              "            + ' to learn more about interactive tables.';\n",
              "          element.innerHTML = '';\n",
              "          dataTable['output_type'] = 'display_data';\n",
              "          await google.colab.output.renderOutput(dataTable, element);\n",
              "          const docLink = document.createElement('div');\n",
              "          docLink.innerHTML = docLinkHtml;\n",
              "          element.appendChild(docLink);\n",
              "        }\n",
              "      </script>\n",
              "    </div>\n",
              "  </div>\n",
              "  "
            ]
          },
          "metadata": {},
          "execution_count": 4
        }
      ]
    },
    {
      "cell_type": "code",
      "source": [
        "#Modulación reemplazando símbolos por valores complejos - mapeo (opción 2)\n",
        "df_sym_mod2 = df_sym_tx.iloc[:,0].map(mod_dict)\n",
        "df_sym_mod2.head(20)"
      ],
      "metadata": {
        "colab": {
          "base_uri": "https://localhost:8080/"
        },
        "id": "Gd0Gz_MEgpS1",
        "outputId": "b7abaa51-78e5-4fac-da0f-63f1553d6f59"
      },
      "execution_count": 5,
      "outputs": [
        {
          "output_type": "execute_result",
          "data": {
            "text/plain": [
              "0     3.0+3.0j\n",
              "1     1.0-3.0j\n",
              "2    -3.0-3.0j\n",
              "3     1.0-1.0j\n",
              "4    -3.0+1.0j\n",
              "5     3.0-3.0j\n",
              "6     3.0+3.0j\n",
              "7    -3.0-1.0j\n",
              "8    -1.0-3.0j\n",
              "9     3.0+1.0j\n",
              "10   -1.0+1.0j\n",
              "11   -3.0+3.0j\n",
              "12    1.0-3.0j\n",
              "13    1.0-1.0j\n",
              "14   -1.0+3.0j\n",
              "15   -3.0+1.0j\n",
              "16   -3.0-3.0j\n",
              "17    3.0+1.0j\n",
              "18   -1.0+1.0j\n",
              "19    3.0-3.0j\n",
              "Name: 0, dtype: complex128"
            ]
          },
          "metadata": {},
          "execution_count": 5
        }
      ]
    },
    {
      "cell_type": "code",
      "source": [
        "def demapper_sym(symbols_I, symbols_Q, Ns, threshold = 2.0):\n",
        "   symbol = []\n",
        "   for i in range(Ns):\n",
        "        if symbols_I[i] <= -threshold and symbols_Q[i] >= threshold: #-3+3j\n",
        "            symbol.append(0)\n",
        "        elif symbols_I[i] <= -threshold and symbols_Q[i] >= 0 and symbols_Q[i] <= threshold: #-3+1j\n",
        "            symbol.append(1)\n",
        "        elif symbols_I[i] <= -threshold and symbols_Q[i] <= 0 and symbols_Q[i] >= -threshold: #-3-j\n",
        "            symbol.append(3)\n",
        "        elif symbols_I[i] <= -threshold and symbols_Q[i] <= -threshold: #-3-3j\n",
        "            symbol.append(2)\n",
        "        elif symbols_I[i] >= -threshold and symbols_I[i] <= 0 and symbols_Q[i] >= threshold: #-1+3j\n",
        "            symbol.append(4)\n",
        "        elif symbols_I[i] >= -threshold and symbols_I[i] <= 0 and symbols_Q[i] >= 0 and symbols_Q[i] <= threshold: #-1+j\n",
        "            symbol.append(5)\n",
        "        elif symbols_I[i] >= -threshold and symbols_I[i] <= 0 and symbols_Q[i] <= 0 and symbols_Q[i] >= -threshold: #-1-j\n",
        "            symbol.append(7)\n",
        "        elif symbols_I[i] >= -threshold and symbols_I[i] <= 0 and symbols_Q[i] <= -threshold: #-1-3j\n",
        "            symbol.append(6)\n",
        "        elif symbols_I[i] >= 0 and symbols_I[i] <= threshold and symbols_Q[i] >= threshold: #1+3j\n",
        "            symbol.append(12)\n",
        "        elif symbols_I[i] >= 0 and symbols_I[i] <= threshold and symbols_Q[i] >= 0 and symbols_Q[i] <= threshold: #1+j\n",
        "            symbol.append(13)\n",
        "        elif symbols_I[i] >= 0 and symbols_I[i] <= threshold and symbols_Q[i] <= 0 and symbols_Q[i] >= -threshold: #1-j\n",
        "            symbol.append(15)\n",
        "        elif symbols_I[i] >= 0 and symbols_I[i] <= threshold and symbols_Q[i] <= -threshold: #1-3j\n",
        "            symbol.append(14)\n",
        "        elif symbols_I[i] >= threshold and symbols_Q[i] >= threshold: #3+3j\n",
        "            symbol.append(8)\n",
        "        elif symbols_I[i] >= threshold and symbols_Q[i] >= 0 and symbols_Q[i] <= threshold: #3+1j\n",
        "            symbol.append(9)\n",
        "        elif symbols_I[i] >= threshold and symbols_Q[i] <= 0 and symbols_Q[i] >= -threshold: #3-1j\n",
        "            symbol.append(11)\n",
        "        elif symbols_I[i] >= threshold and symbols_Q[i] <= -threshold: #3-3j\n",
        "            symbol.append(10)\n",
        "   return(symbol)"
      ],
      "metadata": {
        "id": "GO0Y2WDMgu0F"
      },
      "execution_count": 6,
      "outputs": []
    },
    {
      "cell_type": "code",
      "source": [
        "sym_tx = demapper_sym(np.real(df_sym_mod2), np.imag(df_sym_mod2), len(df_sym_mod2), threshold = 2.0)\n",
        "print(sym_tx[0:10])\n",
        "print(Symbols_tx[0:10])"
      ],
      "metadata": {
        "colab": {
          "base_uri": "https://localhost:8080/"
        },
        "id": "xmmuOVt6gxnF",
        "outputId": "05a8fab0-e417-4539-f727-1b2f38d4d4d1"
      },
      "execution_count": 7,
      "outputs": [
        {
          "output_type": "stream",
          "name": "stdout",
          "text": [
            "[8, 14, 2, 15, 1, 10, 8, 3, 6, 9]\n",
            "[ 8 14  2 15  1 10  8  3  6  9]\n"
          ]
        }
      ]
    },
    {
      "cell_type": "code",
      "source": [
        "Xr = np.real(df_sym_mod2)\n",
        "Xi = np.imag(df_sym_mod2)"
      ],
      "metadata": {
        "id": "OPwxQxo8g2wc"
      },
      "execution_count": 8,
      "outputs": []
    },
    {
      "cell_type": "code",
      "source": [
        "# Adición de ruido blanco Gaussiano (AWGN)\n",
        "# Se le adiciona diferentes cantidades de ruido para ver los efectos de \n",
        "# este en la demodulación.\n",
        "\n",
        "target_snr_db = [i for i in np.arange(0, 21, 4)]\n",
        "Xr_avg_p = np.mean(Xr**2)\n",
        "Xr_avg_db = 10 * np.log10(Xr_avg_p)\n",
        "#print(Xr_avg_db)\n",
        "noise_avg_db_r = Xr_avg_db - target_snr_db\n",
        "noise_avg_p_r = 10 ** (noise_avg_db_r / 10)\n",
        "mean_noise = 0\n",
        "#noise_r = np.random.normal(mean_noise, np.sqrt(noise_avg_p_r), len(Xr))\n",
        "noise_r= [np.random.normal(mean_noise, np.sqrt(i), len(Xr)) for i in noise_avg_p_r]\n",
        "Xr_ch = Xr + noise_r\n",
        "\n",
        "Xi_avg_p = np.mean(Xi**2)\n",
        "Xi_avg_db = 10 * np.log10(Xi_avg_p)\n",
        "noise_avg_db_i = Xr_avg_db - target_snr_db\n",
        "noise_avg_p_i = 10 ** (noise_avg_db_i / 10)\n",
        "#noise_i = np.random.normal(mean_noise, np.sqrt(noise_avg_p_i), len(Xi))\n",
        "noise_i = [np.random.normal(mean_noise, np.sqrt(i), len(Xi)) for i in noise_avg_p_i]\n",
        "Xi_ch = Xi + noise_i"
      ],
      "metadata": {
        "id": "3iTDOIN8g2uE"
      },
      "execution_count": 9,
      "outputs": []
    },
    {
      "cell_type": "code",
      "source": [
        "plt.figure(figsize=(20, 10))\n",
        "\n",
        "for i in range(len(target_snr_db)):\n",
        "  plt.subplot(2, 3, i+1)\n",
        "  plt.title('16-QAM, SNR: '+str(target_snr_db[i])+' dB', fontsize = 18)\n",
        "  plt.plot(Xi_ch[i], Xr_ch[i], 'o')\n",
        "  plt.xlabel('I')\n",
        "  plt.ylabel('Q')\n",
        "  plt.grid()\n",
        "plt.show()"
      ],
      "metadata": {
        "colab": {
          "base_uri": "https://localhost:8080/",
          "height": 625
        },
        "id": "rRtdF3SIg2pc",
        "outputId": "f4f4b88d-bd0a-47bb-ad42-e54206ce6967"
      },
      "execution_count": 10,
      "outputs": [
        {
          "output_type": "display_data",
          "data": {
            "text/plain": [
              "<Figure size 1440x720 with 6 Axes>"
            ],
            "image/png": "[encoded data removed]"
          },
          "metadata": {
            "needs_background": "light"
          }
        }
      ]
    },
    {
      "cell_type": "code",
      "source": [
        "#sym_rx = demapper_sym(Xr_ch[0], Xi_ch[0], len(Xr_ch[0]), threshold = 2.0)\n",
        "sym_rx = [demapper_sym(Xr_ch[i], Xi_ch[i], len(Xr_ch[i]), threshold = 2.0) for i in range(len(target_snr_db))]\n",
        "print(f'SNR {target_snr_db[0]}dB :', sym_rx[0][0:10])\n",
        "print(f'SNR {target_snr_db[3]}dB:', sym_rx[3][0:10])\n",
        "print('Original:', Symbols_tx[0:10])"
      ],
      "metadata": {
        "colab": {
          "base_uri": "https://localhost:8080/"
        },
        "id": "u_PRfFKTg2eN",
        "outputId": "20a8973f-e674-4c5f-e519-d8822cdd8c32"
      },
      "execution_count": 11,
      "outputs": [
        {
          "output_type": "stream",
          "name": "stdout",
          "text": [
            "SNR 0dB : [9, 11, 6, 7, 0, 10, 9, 2, 14, 13]\n",
            "SNR 12dB: [8, 14, 2, 15, 1, 14, 8, 3, 2, 9]\n",
            "Original: [ 8 14  2 15  1 10  8  3  6  9]\n"
          ]
        }
      ]
    },
    {
      "cell_type": "code",
      "source": [
        "def SymbolErrorRate(sym_rx, sym_tx):\n",
        "  error = 0\n",
        "  for i, rx in enumerate(sym_rx):\n",
        "    if rx != sym_tx[i]:\n",
        "      error += 1\n",
        "  SER = error / len(sym_tx)\n",
        "  return SER, error"
      ],
      "metadata": {
        "id": "15MYF6srhNZM"
      },
      "execution_count": 12,
      "outputs": []
    },
    {
      "cell_type": "code",
      "source": [
        "def BitErrorRate(sym_rx, sym_tx):\n",
        "  sym_rx_bin = ''.join([f'{sym:04b}' for sym in sym_rx])\n",
        "  sym_tx_bin = ''.join([f'{sym:04b}' for sym in sym_tx])\n",
        "\n",
        "  error = 0\n",
        "  for i in range(len(sym_tx_bin)):\n",
        "    if sym_rx_bin[i] != sym_tx_bin[i]:\n",
        "      error += 1\n",
        "  BER = error / len(sym_tx_bin)\n",
        "  return BER, error"
      ],
      "metadata": {
        "id": "5zkH65j6hNWM"
      },
      "execution_count": 13,
      "outputs": []
    },
    {
      "cell_type": "code",
      "source": [
        "arr_SER = []\n",
        "for i in range(len(target_snr_db)):\n",
        "  SER, error = SymbolErrorRate(sym_rx[i], Symbols_tx)\n",
        "  arr_SER.append(SER)\n",
        "  print(f'SER {target_snr_db[i]}dB:', SER)\n",
        "  print(f'Error {target_snr_db[i]}dB:', error, '\\n')"
      ],
      "metadata": {
        "colab": {
          "base_uri": "https://localhost:8080/"
        },
        "id": "xN-REK6qjUlF",
        "outputId": "f7596fff-6a4b-4164-a8ba-f655820b9d91"
      },
      "execution_count": 14,
      "outputs": [
        {
          "output_type": "stream",
          "name": "stdout",
          "text": [
            "SER 0dB: 0.74252\n",
            "Error 0dB: 74252 \n",
            "\n",
            "SER 4dB: 0.59083\n",
            "Error 4dB: 59083 \n",
            "\n",
            "SER 8dB: 0.35295\n",
            "Error 8dB: 35295 \n",
            "\n",
            "SER 12dB: 0.11053\n",
            "Error 12dB: 11053 \n",
            "\n",
            "SER 16dB: 0.007\n",
            "Error 16dB: 700 \n",
            "\n",
            "SER 20dB: 1e-05\n",
            "Error 20dB: 1 \n",
            "\n"
          ]
        }
      ]
    },
    {
      "cell_type": "code",
      "source": [
        "arr_BER = []\n",
        "for i in range(len(target_snr_db)):\n",
        "  BER, error = BitErrorRate(sym_rx[i], Symbols_tx)\n",
        "  arr_BER.append(BER)\n",
        "  print(f'SER {target_snr_db[i]}dB:', BER)\n",
        "  print(f'Error {target_snr_db[i]}dB:', error, '\\n')"
      ],
      "metadata": {
        "colab": {
          "base_uri": "https://localhost:8080/"
        },
        "id": "s8Zl-XSFjU_0",
        "outputId": "b8c6df95-e9e2-4394-d413-59d8cea090ff"
      },
      "execution_count": 15,
      "outputs": [
        {
          "output_type": "stream",
          "name": "stdout",
          "text": [
            "SER 0dB: 0.28781\n",
            "Error 0dB: 115124 \n",
            "\n",
            "SER 4dB: 0.187845\n",
            "Error 4dB: 75138 \n",
            "\n",
            "SER 8dB: 0.0981325\n",
            "Error 8dB: 39253 \n",
            "\n",
            "SER 12dB: 0.02851\n",
            "Error 12dB: 11404 \n",
            "\n",
            "SER 16dB: 0.00175\n",
            "Error 16dB: 700 \n",
            "\n",
            "SER 20dB: 2.5e-06\n",
            "Error 20dB: 1 \n",
            "\n"
          ]
        }
      ]
    },
    {
      "cell_type": "code",
      "source": [
        "plt.figure(figsize=(7, 5))\n",
        "plt.title('SER vs BER', fontsize = 18)\n",
        "plt.plot(target_snr_db, arr_SER, marker = 'o', label = 'SER')\n",
        "plt.plot(target_snr_db, arr_BER, marker = 'o', label = 'BER')\n",
        "plt.xlabel('SNR [dB]')\n",
        "plt.ylabel('SER, BER')\n",
        "plt.yscale('log')\n",
        "plt.legend(loc = 'upper right')\n",
        "plt.grid()\n",
        "plt.show()"
      ],
      "metadata": {
        "colab": {
          "base_uri": "https://localhost:8080/",
          "height": 354
        },
        "id": "590i7eOazbPT",
        "outputId": "2dc744af-ffe0-4f96-bceb-e317ee8ccfd3"
      },
      "execution_count": 16,
      "outputs": [
        {
          "output_type": "display_data",
          "data": {
            "text/plain": [
              "<Figure size 504x360 with 1 Axes>"
            ],
            "image/png": "[encoded data removed]"
          },
          "metadata": {
            "needs_background": "light"
          }
        }
      ]
    }
  ]
}