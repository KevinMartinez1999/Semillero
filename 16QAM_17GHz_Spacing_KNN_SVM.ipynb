{
 "cells": [
  {
   "attachments": {},
   "cell_type": "markdown",
   "metadata": {},
   "source": [
    "# Demodulación con tralapamiento de 18GHz usando KNN y SVM"
   ]
  },
  {
   "cell_type": "code",
   "execution_count": 1,
   "metadata": {},
   "outputs": [],
   "source": [
    "import numpy as np\n",
    "import matplotlib.pyplot as plt\n",
    "import pandas as pd\n",
    "import scipy.io as sio\n",
    "import warnings\n",
    "from numpy import pi\n",
    "from sklearn.neighbors import KNeighborsClassifier\n",
    "from sklearn.svm import SVC\n",
    "from sklearn.tree import DecisionTreeClassifier\n",
    "from sklearn.model_selection import GridSearchCV\n",
    "from sklearn.model_selection import train_test_split\n",
    "from sklearn import metrics\n",
    "from sofa_sem import *"
   ]
  },
  {
   "cell_type": "code",
   "execution_count": 2,
   "metadata": {},
   "outputs": [],
   "source": [
    "warnings.filterwarnings(\"ignore\", category=FutureWarning)"
   ]
  },
  {
   "cell_type": "code",
   "execution_count": 3,
   "metadata": {},
   "outputs": [
    {
     "data": {
      "text/html": [
       "<div>\n",
       "<style scoped>\n",
       "    .dataframe tbody tr th:only-of-type {\n",
       "        vertical-align: middle;\n",
       "    }\n",
       "\n",
       "    .dataframe tbody tr th {\n",
       "        vertical-align: top;\n",
       "    }\n",
       "\n",
       "    .dataframe thead th {\n",
       "        text-align: right;\n",
       "    }\n",
       "</style>\n",
       "<table border=\"1\" class=\"dataframe\">\n",
       "  <thead>\n",
       "    <tr style=\"text-align: right;\">\n",
       "      <th></th>\n",
       "      <th>Rx_18dB</th>\n",
       "      <th>Rx_19dB</th>\n",
       "      <th>Rx_20dB</th>\n",
       "      <th>Rx_21.5dB</th>\n",
       "      <th>Rx_23dB</th>\n",
       "      <th>Rx_25dB</th>\n",
       "      <th>Rx_27dB</th>\n",
       "      <th>Rx_30dB</th>\n",
       "      <th>Rx_32dB</th>\n",
       "      <th>Rx_35dB</th>\n",
       "      <th>Rx_40dB</th>\n",
       "    </tr>\n",
       "  </thead>\n",
       "  <tbody>\n",
       "    <tr>\n",
       "      <th>0</th>\n",
       "      <td>-0.978556-2.177483j</td>\n",
       "      <td>3.792527-0.684828j</td>\n",
       "      <td>2.021262+0.848436j</td>\n",
       "      <td>0.761202+2.018515j</td>\n",
       "      <td>-1.240823+2.535413j</td>\n",
       "      <td>1.382132-0.980309j</td>\n",
       "      <td>-1.462819-1.823039j</td>\n",
       "      <td>2.798859+2.195750j</td>\n",
       "      <td>-0.842783+2.614045j</td>\n",
       "      <td>-0.913373+3.212647j</td>\n",
       "      <td>1.405275-1.006670j</td>\n",
       "    </tr>\n",
       "    <tr>\n",
       "      <th>1</th>\n",
       "      <td>-3.104894-0.125263j</td>\n",
       "      <td>-0.745597-0.885128j</td>\n",
       "      <td>-2.495145+2.280375j</td>\n",
       "      <td>3.132958+1.278416j</td>\n",
       "      <td>-3.061465-3.327199j</td>\n",
       "      <td>1.158174+1.516084j</td>\n",
       "      <td>-2.985624+0.885280j</td>\n",
       "      <td>2.831192+1.095718j</td>\n",
       "      <td>0.708251+2.747259j</td>\n",
       "      <td>-2.749716-1.129147j</td>\n",
       "      <td>-3.133838+3.202480j</td>\n",
       "    </tr>\n",
       "    <tr>\n",
       "      <th>2</th>\n",
       "      <td>-2.776707+0.464030j</td>\n",
       "      <td>3.081335-2.278752j</td>\n",
       "      <td>0.495964+0.946310j</td>\n",
       "      <td>-2.979593+2.813558j</td>\n",
       "      <td>-1.628213-1.194809j</td>\n",
       "      <td>2.619056+0.783472j</td>\n",
       "      <td>0.411762+2.693814j</td>\n",
       "      <td>1.066338+0.722932j</td>\n",
       "      <td>1.025998+2.682120j</td>\n",
       "      <td>-0.510315-2.897366j</td>\n",
       "      <td>-2.619255-2.473066j</td>\n",
       "    </tr>\n",
       "    <tr>\n",
       "      <th>3</th>\n",
       "      <td>2.026534+2.315612j</td>\n",
       "      <td>-2.195929-3.074527j</td>\n",
       "      <td>3.190599-3.168070j</td>\n",
       "      <td>-3.259012-2.298041j</td>\n",
       "      <td>1.184520-1.241925j</td>\n",
       "      <td>-3.081185+0.883196j</td>\n",
       "      <td>0.447480-2.694190j</td>\n",
       "      <td>-0.815356-0.787203j</td>\n",
       "      <td>2.814030-3.132330j</td>\n",
       "      <td>0.679552+2.781246j</td>\n",
       "      <td>1.143456-0.888392j</td>\n",
       "    </tr>\n",
       "    <tr>\n",
       "      <th>4</th>\n",
       "      <td>0.042611+2.864886j</td>\n",
       "      <td>2.385772-0.886015j</td>\n",
       "      <td>2.712549+0.990111j</td>\n",
       "      <td>1.405294+1.231046j</td>\n",
       "      <td>1.066575+0.582063j</td>\n",
       "      <td>1.502183+2.193604j</td>\n",
       "      <td>-0.833805+0.848400j</td>\n",
       "      <td>-2.869102+2.811708j</td>\n",
       "      <td>0.818552-3.296985j</td>\n",
       "      <td>-2.589619+1.352340j</td>\n",
       "      <td>2.841881+2.701012j</td>\n",
       "    </tr>\n",
       "  </tbody>\n",
       "</table>\n",
       "</div>"
      ],
      "text/plain": [
       "              Rx_18dB             Rx_19dB             Rx_20dB  \\\n",
       "0 -0.978556-2.177483j  3.792527-0.684828j  2.021262+0.848436j   \n",
       "1 -3.104894-0.125263j -0.745597-0.885128j -2.495145+2.280375j   \n",
       "2 -2.776707+0.464030j  3.081335-2.278752j  0.495964+0.946310j   \n",
       "3  2.026534+2.315612j -2.195929-3.074527j  3.190599-3.168070j   \n",
       "4  0.042611+2.864886j  2.385772-0.886015j  2.712549+0.990111j   \n",
       "\n",
       "            Rx_21.5dB             Rx_23dB             Rx_25dB  \\\n",
       "0  0.761202+2.018515j -1.240823+2.535413j  1.382132-0.980309j   \n",
       "1  3.132958+1.278416j -3.061465-3.327199j  1.158174+1.516084j   \n",
       "2 -2.979593+2.813558j -1.628213-1.194809j  2.619056+0.783472j   \n",
       "3 -3.259012-2.298041j  1.184520-1.241925j -3.081185+0.883196j   \n",
       "4  1.405294+1.231046j  1.066575+0.582063j  1.502183+2.193604j   \n",
       "\n",
       "              Rx_27dB             Rx_30dB             Rx_32dB  \\\n",
       "0 -1.462819-1.823039j  2.798859+2.195750j -0.842783+2.614045j   \n",
       "1 -2.985624+0.885280j  2.831192+1.095718j  0.708251+2.747259j   \n",
       "2  0.411762+2.693814j  1.066338+0.722932j  1.025998+2.682120j   \n",
       "3  0.447480-2.694190j -0.815356-0.787203j  2.814030-3.132330j   \n",
       "4 -0.833805+0.848400j -2.869102+2.811708j  0.818552-3.296985j   \n",
       "\n",
       "              Rx_35dB             Rx_40dB  \n",
       "0 -0.913373+3.212647j  1.405275-1.006670j  \n",
       "1 -2.749716-1.129147j -3.133838+3.202480j  \n",
       "2 -0.510315-2.897366j -2.619255-2.473066j  \n",
       "3  0.679552+2.781246j  1.143456-0.888392j  \n",
       "4 -2.589619+1.352340j  2.841881+2.701012j  "
      ]
     },
     "execution_count": 3,
     "metadata": {},
     "output_type": "execute_result"
    }
   ],
   "source": [
    "SNR = [18, 19, 20, 21.5, 23, 25, 27, 30, 32, 35, 40]\n",
    "df = pd.DataFrame()\n",
    "for i in SNR:\n",
    "    data_rx = sio.loadmat(f'Distances\\\\17GHz\\\\16QAM_3x16GBd_consY{i}dB.mat')\n",
    "    data_rx = 3 * (data_rx['const_Y'] - data_rx['const_Y'].mean()) / data_rx['const_Y'].std()\n",
    "    df[f'Rx_{i}dB'] = np.transpose(data_rx).flatten()\n",
    "df.head()"
   ]
  },
  {
   "cell_type": "code",
   "execution_count": 4,
   "metadata": {},
   "outputs": [
    {
     "data": {
      "text/html": [
       "<div>\n",
       "<style scoped>\n",
       "    .dataframe tbody tr th:only-of-type {\n",
       "        vertical-align: middle;\n",
       "    }\n",
       "\n",
       "    .dataframe tbody tr th {\n",
       "        vertical-align: top;\n",
       "    }\n",
       "\n",
       "    .dataframe thead th {\n",
       "        text-align: right;\n",
       "    }\n",
       "</style>\n",
       "<table border=\"1\" class=\"dataframe\">\n",
       "  <thead>\n",
       "    <tr style=\"text-align: right;\">\n",
       "      <th></th>\n",
       "      <th>Tx</th>\n",
       "    </tr>\n",
       "  </thead>\n",
       "  <tbody>\n",
       "    <tr>\n",
       "      <th>0</th>\n",
       "      <td>3.0+3.0j</td>\n",
       "    </tr>\n",
       "    <tr>\n",
       "      <th>1</th>\n",
       "      <td>-3.0-3.0j</td>\n",
       "    </tr>\n",
       "    <tr>\n",
       "      <th>2</th>\n",
       "      <td>3.0-1.0j</td>\n",
       "    </tr>\n",
       "    <tr>\n",
       "      <th>3</th>\n",
       "      <td>-3.0+3.0j</td>\n",
       "    </tr>\n",
       "    <tr>\n",
       "      <th>4</th>\n",
       "      <td>-3.0+3.0j</td>\n",
       "    </tr>\n",
       "  </tbody>\n",
       "</table>\n",
       "</div>"
      ],
      "text/plain": [
       "         Tx\n",
       "0  3.0+3.0j\n",
       "1 -3.0-3.0j\n",
       "2  3.0-1.0j\n",
       "3 -3.0+3.0j\n",
       "4 -3.0+3.0j"
      ]
     },
     "execution_count": 4,
     "metadata": {},
     "output_type": "execute_result"
    }
   ],
   "source": [
    "# Datos experimentales transmitidos (Tx)\n",
    "data_tx = sio.loadmat('Distances\\\\2x16QAM_16GBd.mat')\n",
    "data_tx = data_tx['Constellation'].flatten()[0][0]\n",
    "df_tx = pd.DataFrame(np.transpose(data_tx), columns = ['Tx'])\n",
    "df_tx.head()"
   ]
  },
  {
   "cell_type": "code",
   "execution_count": 5,
   "metadata": {},
   "outputs": [],
   "source": [
    "sync_tx = [sync_signals(df_tx['Tx'], df[f'Rx_{i}dB']) for i in SNR]"
   ]
  },
  {
   "cell_type": "code",
   "execution_count": 6,
   "metadata": {},
   "outputs": [],
   "source": [
    "y = [demodulate(sync_tx[i]) for i in range(len(SNR))]"
   ]
  },
  {
   "attachments": {},
   "cell_type": "markdown",
   "metadata": {},
   "source": [
    "## Preparación de los datos"
   ]
  },
  {
   "cell_type": "code",
   "execution_count": 7,
   "metadata": {},
   "outputs": [],
   "source": [
    "Xr = [np.real(df[f'Rx_{i}dB']) for i in SNR]\n",
    "Xi = [np.imag(df[f'Rx_{i}dB']) for i in SNR]"
   ]
  },
  {
   "cell_type": "code",
   "execution_count": 8,
   "metadata": {},
   "outputs": [],
   "source": [
    "X = [np.transpose(np.array([Xr[i], Xi[i]])) for i in range(len(SNR))]"
   ]
  },
  {
   "attachments": {},
   "cell_type": "markdown",
   "metadata": {},
   "source": [
    "## Modelo KNN"
   ]
  },
  {
   "cell_type": "code",
   "execution_count": 9,
   "metadata": {},
   "outputs": [],
   "source": [
    "ber_knn = []\n",
    "for it in range(len(SNR)):\n",
    "    # Dividir los datos en conjuntos de entrenamiento y prueba\n",
    "    X_train, X_test, y_train, y_test = train_test_split(X[it], y[it], test_size=0.4)\n",
    "\n",
    "    # Instanciar el modelo k-NN\n",
    "    model = KNeighborsClassifier(n_neighbors=5)\n",
    "\n",
    "    # Entrenar el modelo con los datos de entrenamiento\n",
    "    model.fit(X_train, y_train)\n",
    "\n",
    "    # Calcular la precisión del modelo en los datos de prueba\n",
    "    y_pred = model.predict(X_test)\n",
    "    #print(\"Accuracy:\", metrics.accuracy_score(y_test, y_pred))\n",
    "\n",
    "    # Calcular Tasa de Error de Bit\n",
    "    ber, ber_error = bit_error_rate(y_test, y_pred)\n",
    "    ber_knn.append(ber)"
   ]
  },
  {
   "attachments": {},
   "cell_type": "markdown",
   "metadata": {},
   "source": [
    "## Modelo SVM"
   ]
  },
  {
   "cell_type": "code",
   "execution_count": 10,
   "metadata": {},
   "outputs": [],
   "source": [
    "ber_svm = []\n",
    "for it in range(len(SNR)):\n",
    "    # Dividir los datos en conjuntos de entrenamiento y prueba\n",
    "    X_train, X_test, y_train, y_test = train_test_split(X[it], y[it], test_size=0.4)\n",
    "\n",
    "    # Instanciar el modelo SVC\n",
    "    model = SVC()\n",
    "\n",
    "    # Entrenar el modelo con los datos de entrenamiento\n",
    "    model.fit(X_train, y_train)\n",
    "\n",
    "    # Calcular la precisión del modelo en los datos de prueba\n",
    "    y_pred = model.predict(X_test)\n",
    "    #print(\"Accuracy:\", metrics.accuracy_score(y_test, y_pred))\n",
    "\n",
    "    # Calcular Tasa de Error de Bit\n",
    "    ber, ber_error = bit_error_rate(y_test, y_pred)\n",
    "    ber_svm.append(ber)"
   ]
  },
  {
   "attachments": {},
   "cell_type": "markdown",
   "metadata": {},
   "source": [
    "## Arboles de decisión"
   ]
  },
  {
   "cell_type": "code",
   "execution_count": 11,
   "metadata": {},
   "outputs": [],
   "source": [
    "ber_tree = []\n",
    "for it in range(len(SNR)):\n",
    "    # Dividir los datos en conjuntos de entrenamiento y prueba\n",
    "    X_train, X_test, y_train, y_test = train_test_split(X[it], y[it], test_size=0.4)\n",
    "\n",
    "    # Instanciar el modelo de arboles de decisión\n",
    "    model = DecisionTreeClassifier()\n",
    "\n",
    "    # Entrenar el modelo con los datos de entrenamiento\n",
    "    model.fit(X_train, y_train)\n",
    "\n",
    "    # Calcular la precisión del modelo en los datos de prueba\n",
    "    y_pred = model.predict(X_test)\n",
    "    #print(\"Accuracy:\", metrics.accuracy_score(y_test, y_pred))\n",
    "\n",
    "    # Calcular Tasa de Error de Bit\n",
    "    ber, ber_error = bit_error_rate(y_test, y_pred)\n",
    "    ber_tree.append(ber)"
   ]
  },
  {
   "attachments": {},
   "cell_type": "markdown",
   "metadata": {},
   "source": [
    "## Comparación entre los modelos"
   ]
  },
  {
   "cell_type": "code",
   "execution_count": 12,
   "metadata": {},
   "outputs": [
    {
     "data": {
      "image/png": "[encoded data removed]",
      "text/plain": [
       "<Figure size 640x480 with 1 Axes>"
      ]
     },
     "metadata": {},
     "output_type": "display_data"
    }
   ],
   "source": [
    "plt.plot(SNR, np.log10(ber_knn), marker='o', label='KNN (5 vecinos)')\n",
    "plt.plot(SNR, np.log10(ber_svm), marker='^', label='SVM')\n",
    "plt.plot(SNR, np.log10(ber_tree), marker='s', label='DTL')\n",
    "plt.title('17GHz traslapamiento con 0.4 de prueba')\n",
    "plt.xlabel('$SNR$')\n",
    "plt.ylabel('$Log_{10}(BER)$')\n",
    "plt.legend()\n",
    "plt.grid()\n",
    "plt.show() "
   ]
  }
 ],
 "metadata": {
  "kernelspec": {
   "display_name": "base",
   "language": "python",
   "name": "python3"
  },
  "language_info": {
   "codemirror_mode": {
    "name": "ipython",
    "version": 3
   },
   "file_extension": ".py",
   "mimetype": "text/x-python",
   "name": "python",
   "nbconvert_exporter": "python",
   "pygments_lexer": "ipython3",
   "version": "3.9.13"
  },
  "orig_nbformat": 4,
  "vscode": {
   "interpreter": {
    "hash": "5ce9d49d1db7e2be872b3025ad08649992f53292826e9d18a778168b6f741ddf"
   }
  }
 },
 "nbformat": 4,
 "nbformat_minor": 2
}
