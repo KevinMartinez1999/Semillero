{
  "cells": [
    {
      "attachments": {},
      "cell_type": "markdown",
      "metadata": {},
      "source": [
        "# ALgoritmo SVM (Support Vectorial Machine)"
      ]
    },
    {
      "cell_type": "code",
      "execution_count": 1,
      "metadata": {
        "id": "-_R6CjvtjWhb"
      },
      "outputs": [],
      "source": [
        "import numpy as np\n",
        "import matplotlib.pyplot as plt\n",
        "from sklearn.svm import SVC\n",
        "from sklearn.model_selection import GridSearchCV\n",
        "from sklearn.model_selection import train_test_split\n",
        "from sklearn import metrics\n",
        "from sofa_sem import bit_error_rate"
      ]
    },
    {
      "attachments": {},
      "cell_type": "markdown",
      "metadata": {},
      "source": [
        "### Preparación de los datos"
      ]
    },
    {
      "cell_type": "code",
      "execution_count": 2,
      "metadata": {},
      "outputs": [],
      "source": [
        "X1 = np.array([0.3, 0.42, 0.5, 0.4, 0.1, 0.35, 0.4, 0.55, 0.24, 0.1, 0.33, 0.45, 0.52, \n",
        "               0.43, 0.05, 0.3, 0.44, 0.2, 0.1, 0.3, 0.2, 0.53, 0.35, 0.35])\n",
        "X2 = np.array([0.14, 0.7, 0.5, 0.3, 0.12, 0.31, 0.5, 0.52, 0.44, 0.2, 0.1, 0.6, 0.42, \n",
        "               0.35, 0.17, 0.36, 0.4, 0.4, 0.25, 0.6, 0.2, 0.2, 0.2, 0.55])\n",
        "y = np.array([0, 2, 2, 1, 0, 1, 1, 2, 0, 0, 0, 2, 2, 1, 0, 1, 1, 0, 0, 1, 0, 2, 1, 1])"
      ]
    },
    {
      "cell_type": "code",
      "execution_count": 3,
      "metadata": {},
      "outputs": [
        {
          "data": {
            "image/png": "[encoded data removed]",
            "text/plain": [
              "<Figure size 640x480 with 1 Axes>"
            ]
          },
          "metadata": {},
          "output_type": "display_data"
        }
      ],
      "source": [
        "# Grafica de los datos de entrada\n",
        "for g in np.unique(y):\n",
        "    ix = np.where(y == g)\n",
        "    plt.scatter(X1[ix], X2[ix], label=g, s=100, marker='o', alpha=0.5)\n",
        "plt.xticks(())\n",
        "plt.yticks(())\n",
        "plt.legend()\n",
        "plt.show()"
      ]
    },
    {
      "cell_type": "code",
      "execution_count": 4,
      "metadata": {
        "id": "-9vI_sC1jbAT"
      },
      "outputs": [],
      "source": [
        "# Unifica las caracteristicas X1 y X2\n",
        "X = np.transpose(np.array([X1, X2]))"
      ]
    },
    {
      "cell_type": "code",
      "execution_count": 5,
      "metadata": {
        "id": "D2CYpUnrja9b"
      },
      "outputs": [],
      "source": [
        "# Separa los datos de entrenamiento y los de prueba\n",
        "X_train, X_test, y_train, y_test = train_test_split(X, y, test_size=0.4)"
      ]
    },
    {
      "attachments": {},
      "cell_type": "markdown",
      "metadata": {},
      "source": [
        "### Aplicación del modelo SVM"
      ]
    },
    {
      "cell_type": "code",
      "execution_count": 6,
      "metadata": {
        "colab": {
          "base_uri": "https://localhost:8080/"
        },
        "id": "Kn5Og2hsj5Qf",
        "outputId": "722c6e0c-ba37-4080-ddc2-78a2e1c763cc"
      },
      "outputs": [
        {
          "data": {
            "text/plain": [
              "SVC()"
            ]
          },
          "execution_count": 6,
          "metadata": {},
          "output_type": "execute_result"
        }
      ],
      "source": [
        "model = SVC()\n",
        "model.fit(X_train, y_train)"
      ]
    },
    {
      "cell_type": "code",
      "execution_count": 7,
      "metadata": {},
      "outputs": [
        {
          "data": {
            "text/plain": [
              "0.9285714285714286"
            ]
          },
          "execution_count": 7,
          "metadata": {},
          "output_type": "execute_result"
        }
      ],
      "source": [
        "model.score(X_train, y_train)"
      ]
    },
    {
      "cell_type": "code",
      "execution_count": 8,
      "metadata": {
        "colab": {
          "base_uri": "https://localhost:8080/"
        },
        "id": "fNGjCSUhj5N6",
        "outputId": "9c845804-120c-4896-be7b-d15623f2930f"
      },
      "outputs": [
        {
          "name": "stdout",
          "output_type": "stream",
          "text": [
            "Accuracy: 0.7\n"
          ]
        }
      ],
      "source": [
        "y_pred = model.predict(X_test)\n",
        "print(\"Accuracy:\", metrics.accuracy_score(y_test, y_pred))"
      ]
    },
    {
      "attachments": {},
      "cell_type": "markdown",
      "metadata": {},
      "source": [
        "El modelo efectivamente esta sobreajustado a los datos"
      ]
    },
    {
      "attachments": {},
      "cell_type": "markdown",
      "metadata": {},
      "source": [
        "### Busqueda de los mejores parámetros para el modelo y evitar el sobreajuste"
      ]
    },
    {
      "cell_type": "code",
      "execution_count": 9,
      "metadata": {
        "id": "6ilyOBcEj5HB"
      },
      "outputs": [],
      "source": [
        "param_grid = {'C':[0.001, 0.1, 1, 10, 100, 1000, 10000], \n",
        "              'gamma':[10, 1, 0.1, 0.01, 0.001, 0.0001, 0.00001, 0.000001]}"
      ]
    },
    {
      "cell_type": "code",
      "execution_count": 10,
      "metadata": {
        "id": "j_ZECC-4j5Eo"
      },
      "outputs": [],
      "source": [
        "grid = GridSearchCV(SVC(), param_grid, verbose=0)"
      ]
    },
    {
      "cell_type": "code",
      "execution_count": 11,
      "metadata": {
        "colab": {
          "base_uri": "https://localhost:8080/"
        },
        "id": "l_AKOwCFj5AQ",
        "outputId": "8f613a38-7a6d-47c6-907c-2e7f15849ce5"
      },
      "outputs": [
        {
          "name": "stderr",
          "output_type": "stream",
          "text": [
            "c:\\Users\\martinez\\anaconda3\\lib\\site-packages\\sklearn\\model_selection\\_split.py:676: UserWarning: The least populated class in y has only 3 members, which is less than n_splits=5.\n",
            "  warnings.warn(\n"
          ]
        },
        {
          "data": {
            "text/plain": [
              "GridSearchCV(estimator=SVC(),\n",
              "             param_grid={'C': [0.001, 0.1, 1, 10, 100, 1000, 10000],\n",
              "                         'gamma': [10, 1, 0.1, 0.01, 0.001, 0.0001, 1e-05,\n",
              "                                   1e-06]})"
            ]
          },
          "execution_count": 11,
          "metadata": {},
          "output_type": "execute_result"
        }
      ],
      "source": [
        "grid.fit(X_train, y_train)"
      ]
    },
    {
      "cell_type": "code",
      "execution_count": 12,
      "metadata": {
        "colab": {
          "base_uri": "https://localhost:8080/"
        },
        "id": "Ko9Plpq3kGbD",
        "outputId": "0443d451-3c6e-4238-a588-533e50e68066"
      },
      "outputs": [
        {
          "data": {
            "text/plain": [
              "{'C': 10, 'gamma': 10}"
            ]
          },
          "execution_count": 12,
          "metadata": {},
          "output_type": "execute_result"
        }
      ],
      "source": [
        "grid.best_params_"
      ]
    },
    {
      "cell_type": "code",
      "execution_count": 13,
      "metadata": {},
      "outputs": [
        {
          "data": {
            "text/plain": [
              "1.0"
            ]
          },
          "execution_count": 13,
          "metadata": {},
          "output_type": "execute_result"
        }
      ],
      "source": [
        "grid.score(X_train, y_train)"
      ]
    },
    {
      "cell_type": "code",
      "execution_count": 14,
      "metadata": {
        "colab": {
          "base_uri": "https://localhost:8080/"
        },
        "id": "NG4q1hE3kGWj",
        "outputId": "4774bfb2-78d9-41cf-96b6-41be4370d1c4"
      },
      "outputs": [
        {
          "name": "stdout",
          "output_type": "stream",
          "text": [
            "Accuracy: 0.9\n"
          ]
        }
      ],
      "source": [
        "grid_pred = grid.predict(X_test)\n",
        "print(\"Accuracy:\", metrics.accuracy_score(y_test, grid_pred))"
      ]
    },
    {
      "attachments": {},
      "cell_type": "markdown",
      "metadata": {},
      "source": [
        "Se logró efectivamente eliminar el sobreajuste; se evidencia ya que los datos de test se han predicho con un 100% de certeza."
      ]
    },
    {
      "cell_type": "markdown",
      "metadata": {
        "id": "e4y5UyManMKv"
      },
      "source": [
        "### Añadiendo un nuevo valor:"
      ]
    },
    {
      "cell_type": "code",
      "execution_count": 15,
      "metadata": {
        "id": "D7jQO5CRnOlX"
      },
      "outputs": [],
      "source": [
        "datos = np.array([[0.1, 0.40], [0.2, 0.55], [0.4, 0.35], [0.55, 0.45]])"
      ]
    },
    {
      "cell_type": "code",
      "execution_count": 16,
      "metadata": {},
      "outputs": [
        {
          "data": {
            "image/png": "[encoded data removed]",
            "text/plain": [
              "<Figure size 640x480 with 1 Axes>"
            ]
          },
          "metadata": {},
          "output_type": "display_data"
        }
      ],
      "source": [
        "# Grafica con los nuevos datos\n",
        "for g in np.unique(y):\n",
        "    ix = np.where(y == g)\n",
        "    plt.scatter(X1[ix], X2[ix], label=g, s=100, marker='o', alpha=0.5)\n",
        "plt.scatter(datos[:, 0], datos[:, 1], label='Nuevo dato', s=100, marker='^', alpha=0.8)\n",
        "plt.xticks(())\n",
        "plt.yticks(())\n",
        "plt.legend()\n",
        "plt.show()"
      ]
    },
    {
      "cell_type": "code",
      "execution_count": 17,
      "metadata": {},
      "outputs": [
        {
          "name": "stdout",
          "output_type": "stream",
          "text": [
            "Clase: [0 1 1 2]\n"
          ]
        }
      ],
      "source": [
        "#Calcular clase y probabilidades sin el grid\n",
        "print(\"Clase:\", model.predict(datos))"
      ]
    }
  ],
  "metadata": {
    "colab": {
      "authorship_tag": "ABX9TyPDUpXOpMVjRQxFniNDsizo",
      "include_colab_link": true,
      "provenance": []
    },
    "kernelspec": {
      "display_name": "base",
      "language": "python",
      "name": "python3"
    },
    "language_info": {
      "codemirror_mode": {
        "name": "ipython",
        "version": 3
      },
      "file_extension": ".py",
      "mimetype": "text/x-python",
      "name": "python",
      "nbconvert_exporter": "python",
      "pygments_lexer": "ipython3",
      "version": "3.9.13"
    },
    "vscode": {
      "interpreter": {
        "hash": "5ce9d49d1db7e2be872b3025ad08649992f53292826e9d18a778168b6f741ddf"
      }
    }
  },
  "nbformat": 4,
  "nbformat_minor": 0
}
