{
  "nbformat": 4,
  "nbformat_minor": 0,
  "metadata": {
    "colab": {
      "provenance": [],
      "authorship_tag": "ABX9TyPDUpXOpMVjRQxFniNDsizo",
      "include_colab_link": true
    },
    "kernelspec": {
      "name": "python3",
      "display_name": "Python 3"
    },
    "language_info": {
      "name": "python"
    }
  },
  "cells": [
    {
      "cell_type": "markdown",
      "metadata": {
        "id": "view-in-github",
        "colab_type": "text"
      },
      "source": [
        "<a href=\"https://colab.research.google.com/github/KevinMartinez1999/Machine_Learning/blob/develop/SVM.ipynb\" target=\"_parent\"><img src=\"https://colab.research.google.com/assets/colab-badge.svg\" alt=\"Open In Colab\"/></a>"
      ]
    },
    {
      "cell_type": "code",
      "execution_count": 1,
      "metadata": {
        "id": "-_R6CjvtjWhb"
      },
      "outputs": [],
      "source": [
        "import numpy as np\n",
        "import matplotlib.pyplot as plt\n",
        "from sklearn.svm import SVC\n",
        "from sklearn.model_selection import train_test_split\n",
        "from sklearn import metrics\n",
        "from sklearn.model_selection import GridSearchCV"
      ]
    },
    {
      "cell_type": "code",
      "source": [
        "#Datos\n",
        "datos = 0\n",
        "if datos == 0:\n",
        "    X1 = np.array([0.3, 0.42, 0.5, 0.4, 0.1, 0.35, 0.4, 0.55, 0.24, 0.1, 0.33, 0.45, 0.52, 0.43, 0.05, 0.3, 0.44, 0.5, 0.2, 0.1, 0.3])\n",
        "    X2 = np.array([0.14, 0.7, 0.5, 0.3, 0.12, 0.31, 0.5, 0.52, 0.44, 0.2, 0.1, 0.6, 0.42, 0.35, 0.17, 0.36, 0.4, 0.5, 0.4, 0.25, 0.6])\n",
        "    #y = np.array([0, 1, 1, 1, 0, 1, 1, 1, 0, 0, 1, 1, 1, 1, 0, 1, 1, 1, 0, 0])\n",
        "    y = np.array([0, 2, 2, 1, 0, 1, 1, 2, 0, 0, 0, 2, 2, 1, 0, 1, 1, 2, 0, 0, 1])\n",
        "else:\n",
        "    tam = 100\n",
        "    Clases = 2\n",
        "    X1 = np.random.rand(1, tam)\n",
        "    X2 = np.random.rand(1, tam)\n",
        "    y = np.random.randint(Clases, size = tam)\n",
        "    X1 = X1[0]\n",
        "    X2 = X2[0]"
      ],
      "metadata": {
        "id": "-HMAcyaijbHk"
      },
      "execution_count": 2,
      "outputs": []
    },
    {
      "cell_type": "code",
      "source": [
        "plt.figure(figsize=(7, 5))\n",
        "plt.title('Datos', fontsize = 18)\n",
        "plt.scatter(X1, X2, s = 150, marker = '*')\n",
        "plt.xlabel('Característica 1')\n",
        "plt.ylabel('Característica 2')\n",
        "plt.show()"
      ],
      "metadata": {
        "colab": {
          "base_uri": "https://localhost:8080/",
          "height": 354
        },
        "id": "0G3NghwSjbFM",
        "outputId": "68bf944f-c318-4dab-981c-5b3cc80833b5"
      },
      "execution_count": 3,
      "outputs": [
        {
          "output_type": "display_data",
          "data": {
            "text/plain": [
              "<Figure size 504x360 with 1 Axes>"
            ],
            "image/png": "[encoded data removed]"
          },
          "metadata": {
            "needs_background": "light"
          }
        }
      ]
    },
    {
      "cell_type": "code",
      "source": [
        "plt.figure(figsize=(7, 5))\n",
        "plt.title('Datos', fontsize = 18)\n",
        "for g in np.unique(y):\n",
        "    ix = np.where(y == g)\n",
        "    plt.scatter(X1[ix], X2[ix], label = g, s = 150, marker = '*')\n",
        "plt.legend(loc = 'upper right')\n",
        "plt.xlabel('Característica 1')\n",
        "plt.ylabel('Característica 2')\n",
        "plt.show()"
      ],
      "metadata": {
        "colab": {
          "base_uri": "https://localhost:8080/",
          "height": 354
        },
        "id": "kf4-VNIajbCz",
        "outputId": "eabbd4b5-d4e6-4ebf-b8ab-1422ccb5f733"
      },
      "execution_count": 4,
      "outputs": [
        {
          "output_type": "display_data",
          "data": {
            "text/plain": [
              "<Figure size 504x360 with 1 Axes>"
            ],
            "image/png": "[encoded data removed]"
          },
          "metadata": {
            "needs_background": "light"
          }
        }
      ]
    },
    {
      "cell_type": "code",
      "source": [
        "X = np.transpose(np.array([X1, X2]))"
      ],
      "metadata": {
        "id": "-9vI_sC1jbAT"
      },
      "execution_count": 5,
      "outputs": []
    },
    {
      "cell_type": "code",
      "source": [
        "X_train, X_test, y_train, y_test = train_test_split(X, y, test_size = 0.3) # 70% training & 30% test"
      ],
      "metadata": {
        "id": "D2CYpUnrja9b"
      },
      "execution_count": 6,
      "outputs": []
    },
    {
      "cell_type": "code",
      "source": [
        "model = SVC()\n",
        "model.fit(X_train, y_train)"
      ],
      "metadata": {
        "colab": {
          "base_uri": "https://localhost:8080/"
        },
        "id": "Kn5Og2hsj5Qf",
        "outputId": "722c6e0c-ba37-4080-ddc2-78a2e1c763cc"
      },
      "execution_count": 7,
      "outputs": [
        {
          "output_type": "execute_result",
          "data": {
            "text/plain": [
              "SVC()"
            ]
          },
          "metadata": {},
          "execution_count": 7
        }
      ]
    },
    {
      "cell_type": "code",
      "source": [
        "model.score(X_train, y_train)"
      ],
      "metadata": {
        "colab": {
          "base_uri": "https://localhost:8080/"
        },
        "id": "fNGjCSUhj5N6",
        "outputId": "9c845804-120c-4896-be7b-d15623f2930f"
      },
      "execution_count": 8,
      "outputs": [
        {
          "output_type": "execute_result",
          "data": {
            "text/plain": [
              "1.0"
            ]
          },
          "metadata": {},
          "execution_count": 8
        }
      ]
    },
    {
      "cell_type": "code",
      "source": [
        "y_pred = model.predict(X_test)\n",
        "\n",
        "print(\"Accuracy:\",metrics.accuracy_score(y_test, y_pred))"
      ],
      "metadata": {
        "colab": {
          "base_uri": "https://localhost:8080/"
        },
        "id": "LXV3qHaZj5JZ",
        "outputId": "e50c1bb6-ddc3-484d-e44f-88272ab2d08c"
      },
      "execution_count": 9,
      "outputs": [
        {
          "output_type": "stream",
          "name": "stdout",
          "text": [
            "Accuracy: 0.7142857142857143\n"
          ]
        }
      ]
    },
    {
      "cell_type": "code",
      "source": [
        "param_grid = {'C':[0.01, 0.1, 1, 10, 100, 1000], 'gamma':[1,0.1,0.01, 0.001, 0.0001, 0.00001]}"
      ],
      "metadata": {
        "id": "6ilyOBcEj5HB"
      },
      "execution_count": 10,
      "outputs": []
    },
    {
      "cell_type": "code",
      "source": [
        "grid = GridSearchCV(SVC(), param_grid, verbose = 3)"
      ],
      "metadata": {
        "id": "j_ZECC-4j5Eo"
      },
      "execution_count": 11,
      "outputs": []
    },
    {
      "cell_type": "code",
      "source": [
        "grid.fit(X_train, y_train)"
      ],
      "metadata": {
        "colab": {
          "base_uri": "https://localhost:8080/"
        },
        "id": "l_AKOwCFj5AQ",
        "outputId": "8f613a38-7a6d-47c6-907c-2e7f15849ce5"
      },
      "execution_count": 12,
      "outputs": [
        {
          "output_type": "stream",
          "name": "stdout",
          "text": [
            "Fitting 5 folds for each of 36 candidates, totalling 180 fits\n",
            "[CV 1/5] END ...................C=0.01, gamma=1;, score=0.333 total time=   0.0s\n",
            "[CV 2/5] END ...................C=0.01, gamma=1;, score=0.333 total time=   0.0s\n",
            "[CV 3/5] END ...................C=0.01, gamma=1;, score=0.667 total time=   0.0s\n",
            "[CV 4/5] END ...................C=0.01, gamma=1;, score=0.667 total time=   0.0s\n",
            "[CV 5/5] END ...................C=0.01, gamma=1;, score=0.500 total time=   0.0s\n",
            "[CV 1/5] END .................C=0.01, gamma=0.1;, score=0.333 total time=   0.0s\n",
            "[CV 2/5] END .................C=0.01, gamma=0.1;, score=0.333 total time=   0.0s\n",
            "[CV 3/5] END .................C=0.01, gamma=0.1;, score=0.667 total time=   0.0s\n",
            "[CV 4/5] END .................C=0.01, gamma=0.1;, score=0.667 total time=   0.0s\n",
            "[CV 5/5] END .................C=0.01, gamma=0.1;, score=0.500 total time=   0.0s\n",
            "[CV 1/5] END ................C=0.01, gamma=0.01;, score=0.333 total time=   0.0s\n",
            "[CV 2/5] END ................C=0.01, gamma=0.01;, score=0.333 total time=   0.0s\n",
            "[CV 3/5] END ................C=0.01, gamma=0.01;, score=0.667 total time=   0.0s\n",
            "[CV 4/5] END ................C=0.01, gamma=0.01;, score=0.667 total time=   0.0s\n",
            "[CV 5/5] END ................C=0.01, gamma=0.01;, score=0.500 total time=   0.0s\n",
            "[CV 1/5] END ...............C=0.01, gamma=0.001;, score=0.333 total time=   0.0s\n",
            "[CV 2/5] END ...............C=0.01, gamma=0.001;, score=0.333 total time=   0.0s\n",
            "[CV 3/5] END ...............C=0.01, gamma=0.001;, score=0.667 total time=   0.0s\n",
            "[CV 4/5] END ...............C=0.01, gamma=0.001;, score=0.667 total time=   0.0s\n",
            "[CV 5/5] END ...............C=0.01, gamma=0.001;, score=0.500 total time=   0.0s\n",
            "[CV 1/5] END ..............C=0.01, gamma=0.0001;, score=0.333 total time=   0.0s\n",
            "[CV 2/5] END ..............C=0.01, gamma=0.0001;, score=0.333 total time=   0.0s\n",
            "[CV 3/5] END ..............C=0.01, gamma=0.0001;, score=0.667 total time=   0.0s\n",
            "[CV 4/5] END ..............C=0.01, gamma=0.0001;, score=0.667 total time=   0.0s\n",
            "[CV 5/5] END ..............C=0.01, gamma=0.0001;, score=0.500 total time=   0.0s\n",
            "[CV 1/5] END ...............C=0.01, gamma=1e-05;, score=0.333 total time=   0.0s\n",
            "[CV 2/5] END ...............C=0.01, gamma=1e-05;, score=0.333 total time=   0.0s\n",
            "[CV 3/5] END ...............C=0.01, gamma=1e-05;, score=0.667 total time=   0.0s\n",
            "[CV 4/5] END ...............C=0.01, gamma=1e-05;, score=0.667 total time=   0.0s\n",
            "[CV 5/5] END ...............C=0.01, gamma=1e-05;, score=0.500 total time=   0.0s\n",
            "[CV 1/5] END ....................C=0.1, gamma=1;, score=0.333 total time=   0.0s\n",
            "[CV 2/5] END ....................C=0.1, gamma=1;, score=0.333 total time=   0.0s\n",
            "[CV 3/5] END ....................C=0.1, gamma=1;, score=0.667 total time=   0.0s\n",
            "[CV 4/5] END ....................C=0.1, gamma=1;, score=0.667 total time=   0.0s\n",
            "[CV 5/5] END ....................C=0.1, gamma=1;, score=0.500 total time=   0.0s\n",
            "[CV 1/5] END ..................C=0.1, gamma=0.1;, score=0.333 total time=   0.0s\n",
            "[CV 2/5] END ..................C=0.1, gamma=0.1;, score=0.333 total time=   0.0s\n",
            "[CV 3/5] END ..................C=0.1, gamma=0.1;, score=0.667 total time=   0.0s\n",
            "[CV 4/5] END ..................C=0.1, gamma=0.1;, score=0.667 total time=   0.0s\n",
            "[CV 5/5] END ..................C=0.1, gamma=0.1;, score=0.500 total time=   0.0s\n",
            "[CV 1/5] END .................C=0.1, gamma=0.01;, score=0.333 total time=   0.0s\n",
            "[CV 2/5] END .................C=0.1, gamma=0.01;, score=0.333 total time=   0.0s\n",
            "[CV 3/5] END .................C=0.1, gamma=0.01;, score=0.667 total time=   0.0s\n",
            "[CV 4/5] END .................C=0.1, gamma=0.01;, score=0.667 total time=   0.0s\n",
            "[CV 5/5] END .................C=0.1, gamma=0.01;, score=0.500 total time=   0.0s\n",
            "[CV 1/5] END ................C=0.1, gamma=0.001;, score=0.333 total time=   0.0s\n",
            "[CV 2/5] END ................C=0.1, gamma=0.001;, score=0.333 total time=   0.0s\n",
            "[CV 3/5] END ................C=0.1, gamma=0.001;, score=0.667 total time=   0.0s\n",
            "[CV 4/5] END ................C=0.1, gamma=0.001;, score=0.667 total time=   0.0s\n",
            "[CV 5/5] END ................C=0.1, gamma=0.001;, score=0.500 total time=   0.0s\n",
            "[CV 1/5] END ...............C=0.1, gamma=0.0001;, score=0.333 total time=   0.0s\n",
            "[CV 2/5] END ...............C=0.1, gamma=0.0001;, score=0.333 total time=   0.0s\n",
            "[CV 3/5] END ...............C=0.1, gamma=0.0001;, score=0.667 total time=   0.0s\n",
            "[CV 4/5] END ...............C=0.1, gamma=0.0001;, score=0.667 total time=   0.0s\n",
            "[CV 5/5] END ...............C=0.1, gamma=0.0001;, score=0.500 total time=   0.0s\n",
            "[CV 1/5] END ................C=0.1, gamma=1e-05;, score=0.333 total time=   0.0s\n",
            "[CV 2/5] END ................C=0.1, gamma=1e-05;, score=0.333 total time=   0.0s\n",
            "[CV 3/5] END ................C=0.1, gamma=1e-05;, score=0.667 total time=   0.0s\n",
            "[CV 4/5] END ................C=0.1, gamma=1e-05;, score=0.667 total time=   0.0s\n",
            "[CV 5/5] END ................C=0.1, gamma=1e-05;, score=0.500 total time=   0.0s\n",
            "[CV 1/5] END ......................C=1, gamma=1;, score=0.333 total time=   0.0s\n",
            "[CV 2/5] END ......................C=1, gamma=1;, score=0.333 total time=   0.0s\n",
            "[CV 3/5] END ......................C=1, gamma=1;, score=0.667 total time=   0.0s\n",
            "[CV 4/5] END ......................C=1, gamma=1;, score=0.667 total time=   0.0s\n",
            "[CV 5/5] END ......................C=1, gamma=1;, score=0.500 total time=   0.0s\n",
            "[CV 1/5] END ....................C=1, gamma=0.1;, score=0.333 total time=   0.0s\n",
            "[CV 2/5] END ....................C=1, gamma=0.1;, score=0.333 total time=   0.0s\n",
            "[CV 3/5] END ....................C=1, gamma=0.1;, score=0.667 total time=   0.0s\n",
            "[CV 4/5] END ....................C=1, gamma=0.1;, score=0.667 total time=   0.0s\n",
            "[CV 5/5] END ....................C=1, gamma=0.1;, score=0.500 total time=   0.0s\n",
            "[CV 1/5] END ...................C=1, gamma=0.01;, score=0.333 total time=   0.0s\n",
            "[CV 2/5] END ...................C=1, gamma=0.01;, score=0.333 total time=   0.0s\n",
            "[CV 3/5] END ...................C=1, gamma=0.01;, score=0.667 total time=   0.0s\n",
            "[CV 4/5] END ...................C=1, gamma=0.01;, score=0.667 total time=   0.0s\n",
            "[CV 5/5] END ...................C=1, gamma=0.01;, score=0.500 total time=   0.0s\n",
            "[CV 1/5] END ..................C=1, gamma=0.001;, score=0.333 total time=   0.0s\n",
            "[CV 2/5] END ..................C=1, gamma=0.001;, score=0.333 total time=   0.0s\n",
            "[CV 3/5] END ..................C=1, gamma=0.001;, score=0.667 total time=   0.0s\n"
          ]
        },
        {
          "output_type": "stream",
          "name": "stderr",
          "text": [
            "/usr/local/lib/python3.8/dist-packages/sklearn/model_selection/_split.py:676: UserWarning: The least populated class in y has only 2 members, which is less than n_splits=5.\n",
            "  warnings.warn(\n"
          ]
        },
        {
          "output_type": "stream",
          "name": "stdout",
          "text": [
            "[CV 4/5] END ..................C=1, gamma=0.001;, score=0.667 total time=   0.0s\n",
            "[CV 5/5] END ..................C=1, gamma=0.001;, score=0.500 total time=   0.0s\n",
            "[CV 1/5] END .................C=1, gamma=0.0001;, score=0.333 total time=   0.0s\n",
            "[CV 2/5] END .................C=1, gamma=0.0001;, score=0.333 total time=   0.0s\n",
            "[CV 3/5] END .................C=1, gamma=0.0001;, score=0.667 total time=   0.0s\n",
            "[CV 4/5] END .................C=1, gamma=0.0001;, score=0.667 total time=   0.0s\n",
            "[CV 5/5] END .................C=1, gamma=0.0001;, score=0.500 total time=   0.0s\n",
            "[CV 1/5] END ..................C=1, gamma=1e-05;, score=0.333 total time=   0.0s\n",
            "[CV 2/5] END ..................C=1, gamma=1e-05;, score=0.333 total time=   0.0s\n",
            "[CV 3/5] END ..................C=1, gamma=1e-05;, score=0.667 total time=   0.0s\n",
            "[CV 4/5] END ..................C=1, gamma=1e-05;, score=0.667 total time=   0.0s\n",
            "[CV 5/5] END ..................C=1, gamma=1e-05;, score=0.500 total time=   0.0s\n",
            "[CV 1/5] END .....................C=10, gamma=1;, score=0.667 total time=   0.0s\n",
            "[CV 2/5] END .....................C=10, gamma=1;, score=0.667 total time=   0.0s\n",
            "[CV 3/5] END .....................C=10, gamma=1;, score=0.667 total time=   0.0s\n",
            "[CV 4/5] END .....................C=10, gamma=1;, score=1.000 total time=   0.0s\n",
            "[CV 5/5] END .....................C=10, gamma=1;, score=0.500 total time=   0.0s\n",
            "[CV 1/5] END ...................C=10, gamma=0.1;, score=0.333 total time=   0.0s\n",
            "[CV 2/5] END ...................C=10, gamma=0.1;, score=0.333 total time=   0.0s\n",
            "[CV 3/5] END ...................C=10, gamma=0.1;, score=0.667 total time=   0.0s\n",
            "[CV 4/5] END ...................C=10, gamma=0.1;, score=0.667 total time=   0.0s\n",
            "[CV 5/5] END ...................C=10, gamma=0.1;, score=0.500 total time=   0.0s\n",
            "[CV 1/5] END ..................C=10, gamma=0.01;, score=0.333 total time=   0.0s\n",
            "[CV 2/5] END ..................C=10, gamma=0.01;, score=0.333 total time=   0.0s\n",
            "[CV 3/5] END ..................C=10, gamma=0.01;, score=0.667 total time=   0.0s\n",
            "[CV 4/5] END ..................C=10, gamma=0.01;, score=0.667 total time=   0.0s\n",
            "[CV 5/5] END ..................C=10, gamma=0.01;, score=0.500 total time=   0.0s\n",
            "[CV 1/5] END .................C=10, gamma=0.001;, score=0.333 total time=   0.0s\n",
            "[CV 2/5] END .................C=10, gamma=0.001;, score=0.333 total time=   0.0s\n",
            "[CV 3/5] END .................C=10, gamma=0.001;, score=0.667 total time=   0.0s\n",
            "[CV 4/5] END .................C=10, gamma=0.001;, score=0.667 total time=   0.0s\n",
            "[CV 5/5] END .................C=10, gamma=0.001;, score=0.500 total time=   0.0s\n",
            "[CV 1/5] END ................C=10, gamma=0.0001;, score=0.333 total time=   0.0s\n",
            "[CV 2/5] END ................C=10, gamma=0.0001;, score=0.333 total time=   0.0s\n",
            "[CV 3/5] END ................C=10, gamma=0.0001;, score=0.667 total time=   0.0s\n",
            "[CV 4/5] END ................C=10, gamma=0.0001;, score=0.667 total time=   0.0s\n",
            "[CV 5/5] END ................C=10, gamma=0.0001;, score=0.500 total time=   0.0s\n",
            "[CV 1/5] END .................C=10, gamma=1e-05;, score=0.333 total time=   0.0s\n",
            "[CV 2/5] END .................C=10, gamma=1e-05;, score=0.333 total time=   0.0s\n",
            "[CV 3/5] END .................C=10, gamma=1e-05;, score=0.667 total time=   0.0s\n",
            "[CV 4/5] END .................C=10, gamma=1e-05;, score=0.667 total time=   0.0s\n",
            "[CV 5/5] END .................C=10, gamma=1e-05;, score=0.500 total time=   0.0s\n",
            "[CV 1/5] END ....................C=100, gamma=1;, score=0.667 total time=   0.0s\n",
            "[CV 2/5] END ....................C=100, gamma=1;, score=0.667 total time=   0.0s\n",
            "[CV 3/5] END ....................C=100, gamma=1;, score=0.667 total time=   0.0s\n",
            "[CV 4/5] END ....................C=100, gamma=1;, score=0.667 total time=   0.0s\n",
            "[CV 5/5] END ....................C=100, gamma=1;, score=0.500 total time=   0.0s\n",
            "[CV 1/5] END ..................C=100, gamma=0.1;, score=0.667 total time=   0.0s\n",
            "[CV 2/5] END ..................C=100, gamma=0.1;, score=0.667 total time=   0.0s\n",
            "[CV 3/5] END ..................C=100, gamma=0.1;, score=0.667 total time=   0.0s\n",
            "[CV 4/5] END ..................C=100, gamma=0.1;, score=0.667 total time=   0.0s\n",
            "[CV 5/5] END ..................C=100, gamma=0.1;, score=0.500 total time=   0.0s\n",
            "[CV 1/5] END .................C=100, gamma=0.01;, score=0.333 total time=   0.0s\n",
            "[CV 2/5] END .................C=100, gamma=0.01;, score=0.333 total time=   0.0s\n",
            "[CV 3/5] END .................C=100, gamma=0.01;, score=0.667 total time=   0.0s\n",
            "[CV 4/5] END .................C=100, gamma=0.01;, score=0.667 total time=   0.0s\n",
            "[CV 5/5] END .................C=100, gamma=0.01;, score=0.500 total time=   0.0s\n",
            "[CV 1/5] END ................C=100, gamma=0.001;, score=0.333 total time=   0.0s\n",
            "[CV 2/5] END ................C=100, gamma=0.001;, score=0.333 total time=   0.0s\n",
            "[CV 3/5] END ................C=100, gamma=0.001;, score=0.667 total time=   0.0s\n",
            "[CV 4/5] END ................C=100, gamma=0.001;, score=0.667 total time=   0.0s\n",
            "[CV 5/5] END ................C=100, gamma=0.001;, score=0.500 total time=   0.0s\n",
            "[CV 1/5] END ...............C=100, gamma=0.0001;, score=0.333 total time=   0.0s\n",
            "[CV 2/5] END ...............C=100, gamma=0.0001;, score=0.333 total time=   0.0s\n",
            "[CV 3/5] END ...............C=100, gamma=0.0001;, score=0.667 total time=   0.0s\n",
            "[CV 4/5] END ...............C=100, gamma=0.0001;, score=0.667 total time=   0.0s\n",
            "[CV 5/5] END ...............C=100, gamma=0.0001;, score=0.500 total time=   0.0s\n",
            "[CV 1/5] END ................C=100, gamma=1e-05;, score=0.333 total time=   0.0s\n",
            "[CV 2/5] END ................C=100, gamma=1e-05;, score=0.333 total time=   0.0s\n",
            "[CV 3/5] END ................C=100, gamma=1e-05;, score=0.667 total time=   0.0s\n",
            "[CV 4/5] END ................C=100, gamma=1e-05;, score=0.667 total time=   0.0s\n",
            "[CV 5/5] END ................C=100, gamma=1e-05;, score=0.500 total time=   0.0s\n",
            "[CV 1/5] END ...................C=1000, gamma=1;, score=0.667 total time=   0.0s\n",
            "[CV 2/5] END ...................C=1000, gamma=1;, score=0.667 total time=   0.0s\n",
            "[CV 3/5] END ...................C=1000, gamma=1;, score=0.667 total time=   0.0s\n",
            "[CV 4/5] END ...................C=1000, gamma=1;, score=1.000 total time=   0.0s\n",
            "[CV 5/5] END ...................C=1000, gamma=1;, score=0.500 total time=   0.0s\n",
            "[CV 1/5] END .................C=1000, gamma=0.1;, score=0.667 total time=   0.0s\n",
            "[CV 2/5] END .................C=1000, gamma=0.1;, score=0.667 total time=   0.0s\n",
            "[CV 3/5] END .................C=1000, gamma=0.1;, score=0.667 total time=   0.0s\n",
            "[CV 4/5] END .................C=1000, gamma=0.1;, score=0.667 total time=   0.0s\n",
            "[CV 5/5] END .................C=1000, gamma=0.1;, score=0.500 total time=   0.0s\n",
            "[CV 1/5] END ................C=1000, gamma=0.01;, score=0.667 total time=   0.0s\n",
            "[CV 2/5] END ................C=1000, gamma=0.01;, score=0.667 total time=   0.0s\n",
            "[CV 3/5] END ................C=1000, gamma=0.01;, score=0.667 total time=   0.0s\n",
            "[CV 4/5] END ................C=1000, gamma=0.01;, score=0.667 total time=   0.0s\n",
            "[CV 5/5] END ................C=1000, gamma=0.01;, score=0.500 total time=   0.0s\n",
            "[CV 1/5] END ...............C=1000, gamma=0.001;, score=0.333 total time=   0.0s\n",
            "[CV 2/5] END ...............C=1000, gamma=0.001;, score=0.333 total time=   0.0s\n",
            "[CV 3/5] END ...............C=1000, gamma=0.001;, score=0.667 total time=   0.0s\n",
            "[CV 4/5] END ...............C=1000, gamma=0.001;, score=0.667 total time=   0.0s\n",
            "[CV 5/5] END ...............C=1000, gamma=0.001;, score=0.500 total time=   0.0s\n",
            "[CV 1/5] END ..............C=1000, gamma=0.0001;, score=0.333 total time=   0.0s\n",
            "[CV 2/5] END ..............C=1000, gamma=0.0001;, score=0.333 total time=   0.0s\n",
            "[CV 3/5] END ..............C=1000, gamma=0.0001;, score=0.667 total time=   0.0s\n",
            "[CV 4/5] END ..............C=1000, gamma=0.0001;, score=0.667 total time=   0.0s\n",
            "[CV 5/5] END ..............C=1000, gamma=0.0001;, score=0.500 total time=   0.0s\n",
            "[CV 1/5] END ...............C=1000, gamma=1e-05;, score=0.333 total time=   0.0s\n",
            "[CV 2/5] END ...............C=1000, gamma=1e-05;, score=0.333 total time=   0.0s\n",
            "[CV 3/5] END ...............C=1000, gamma=1e-05;, score=0.667 total time=   0.0s\n",
            "[CV 4/5] END ...............C=1000, gamma=1e-05;, score=0.667 total time=   0.0s\n",
            "[CV 5/5] END ...............C=1000, gamma=1e-05;, score=0.500 total time=   0.0s\n"
          ]
        },
        {
          "output_type": "execute_result",
          "data": {
            "text/plain": [
              "GridSearchCV(estimator=SVC(),\n",
              "             param_grid={'C': [0.01, 0.1, 1, 10, 100, 1000],\n",
              "                         'gamma': [1, 0.1, 0.01, 0.001, 0.0001, 1e-05]},\n",
              "             verbose=3)"
            ]
          },
          "metadata": {},
          "execution_count": 12
        }
      ]
    },
    {
      "cell_type": "code",
      "source": [
        "grid.best_params_"
      ],
      "metadata": {
        "colab": {
          "base_uri": "https://localhost:8080/"
        },
        "id": "Ko9Plpq3kGbD",
        "outputId": "0443d451-3c6e-4238-a588-533e50e68066"
      },
      "execution_count": 13,
      "outputs": [
        {
          "output_type": "execute_result",
          "data": {
            "text/plain": [
              "{'C': 10, 'gamma': 1}"
            ]
          },
          "metadata": {},
          "execution_count": 13
        }
      ]
    },
    {
      "cell_type": "code",
      "source": [
        "grid.best_estimator_"
      ],
      "metadata": {
        "colab": {
          "base_uri": "https://localhost:8080/"
        },
        "id": "L4yTsYdDkGYr",
        "outputId": "0ab57cb6-4849-4bc2-f3d1-59524ccc4c72"
      },
      "execution_count": 14,
      "outputs": [
        {
          "output_type": "execute_result",
          "data": {
            "text/plain": [
              "SVC(C=10, gamma=1)"
            ]
          },
          "metadata": {},
          "execution_count": 14
        }
      ]
    },
    {
      "cell_type": "code",
      "source": [
        "grid_pred = grid.predict(X_test)\n",
        "\n",
        "print(\"Accuracy:\",metrics.accuracy_score(y_test, grid_pred))"
      ],
      "metadata": {
        "colab": {
          "base_uri": "https://localhost:8080/"
        },
        "id": "NG4q1hE3kGWj",
        "outputId": "4774bfb2-78d9-41cf-96b6-41be4370d1c4"
      },
      "execution_count": 15,
      "outputs": [
        {
          "output_type": "stream",
          "name": "stdout",
          "text": [
            "Accuracy: 0.5714285714285714\n"
          ]
        }
      ]
    },
    {
      "cell_type": "markdown",
      "source": [
        "### Añadiendo un nuevo valor:"
      ],
      "metadata": {
        "id": "e4y5UyManMKv"
      }
    },
    {
      "cell_type": "code",
      "source": [
        "nuevo_dato = np.array([[0.2, 0.3]])"
      ],
      "metadata": {
        "id": "D7jQO5CRnOlX"
      },
      "execution_count": 16,
      "outputs": []
    },
    {
      "cell_type": "code",
      "source": [
        "plt.figure(figsize=(7, 5))\n",
        "plt.title('Datos', fontsize = 18)\n",
        "for g in np.unique(y):\n",
        "    ix = np.where(y == g)\n",
        "    plt.scatter(X1[ix], X2[ix], label = g, s = 150, marker = '*')\n",
        "plt.scatter(nuevo_dato[0][0], nuevo_dato[0][1], label = 'Nuevo', s = 150, marker = 'P')\n",
        "plt.legend(loc = 'upper right')\n",
        "plt.xlabel('Característica 1')\n",
        "plt.ylabel('Característica 2')\n",
        "plt.show()"
      ],
      "metadata": {
        "colab": {
          "base_uri": "https://localhost:8080/",
          "height": 354
        },
        "id": "x2Mvdkqwnx_H",
        "outputId": "60f8a85d-8c71-442d-cb1c-dcbb540a08a3"
      },
      "execution_count": 17,
      "outputs": [
        {
          "output_type": "display_data",
          "data": {
            "text/plain": [
              "<Figure size 504x360 with 1 Axes>"
            ],
            "image/png": "[encoded data removed]"
          },
          "metadata": {
            "needs_background": "light"
          }
        }
      ]
    },
    {
      "cell_type": "code",
      "source": [
        "#Calcular clase y probabilidades\n",
        "print(\"Clase:\", grid.predict(nuevo_dato))"
      ],
      "metadata": {
        "colab": {
          "base_uri": "https://localhost:8080/"
        },
        "id": "sklQzKB7nx8X",
        "outputId": "fad62206-aca6-4fa5-deaf-c6f12d68fb52"
      },
      "execution_count": 18,
      "outputs": [
        {
          "output_type": "stream",
          "name": "stdout",
          "text": [
            "Clase: [0]\n"
          ]
        }
      ]
    }
  ]
}