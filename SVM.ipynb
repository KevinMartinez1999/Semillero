{
  "cells": [
    {
      "attachments": {},
      "cell_type": "markdown",
      "metadata": {},
      "source": [
        "# ALgoritmo SVM (Support Vectorial Machine)"
      ]
    },
    {
      "cell_type": "code",
      "execution_count": 127,
      "metadata": {
        "id": "-_R6CjvtjWhb"
      },
      "outputs": [],
      "source": [
        "import numpy as np\n",
        "import matplotlib.pyplot as plt\n",
        "from sklearn.svm import SVC\n",
        "from sklearn.model_selection import train_test_split\n",
        "from sklearn import metrics\n",
        "from sklearn.model_selection import GridSearchCV"
      ]
    },
    {
      "cell_type": "code",
      "execution_count": 128,
      "metadata": {},
      "outputs": [],
      "source": [
        "X1 = np.array([0.3, 0.42, 0.5, 0.4, 0.1, 0.35, 0.4, 0.55, 0.24, 0.1, 0.33, 0.45, 0.52, \n",
        "               0.43, 0.05, 0.3, 0.44, 0.5, 0.2, 0.1, 0.3])\n",
        "X2 = np.array([0.14, 0.7, 0.5, 0.3, 0.12, 0.31, 0.5, 0.52, 0.44, 0.2, 0.1, 0.6, 0.42, \n",
        "               0.35, 0.17, 0.36, 0.4, 0.5, 0.4, 0.25, 0.6])\n",
        "y = np.array([0, 2, 2, 1, 0, 1, 1, 2, 0, 0, 0, 2, 2, 1, 0, 1, 1, 2, 0, 0, 1])"
      ]
    },
    {
      "cell_type": "code",
      "execution_count": 129,
      "metadata": {},
      "outputs": [
        {
          "data": {
            "image/png": "[encoded data removed]",
            "text/plain": [
              "<Figure size 640x480 with 1 Axes>"
            ]
          },
          "metadata": {},
          "output_type": "display_data"
        }
      ],
      "source": [
        "# Grafica de los datos de entrada\n",
        "plt.scatter(X1, X2, c=y, s=100, marker='o', alpha=0.5)\n",
        "plt.xticks(())\n",
        "plt.yticks(())\n",
        "plt.show()"
      ]
    },
    {
      "cell_type": "code",
      "execution_count": 130,
      "metadata": {
        "id": "-9vI_sC1jbAT"
      },
      "outputs": [],
      "source": [
        "# Unifica las caracteristicas X1 y X2\n",
        "X = np.transpose(np.array([X1, X2]))"
      ]
    },
    {
      "cell_type": "code",
      "execution_count": 131,
      "metadata": {
        "id": "D2CYpUnrja9b"
      },
      "outputs": [],
      "source": [
        "# Separa los datos de entrenamiento y los de prueba\n",
        "X_train, X_test, y_train, y_test = train_test_split(X, y, test_size=0.3)"
      ]
    },
    {
      "cell_type": "code",
      "execution_count": 132,
      "metadata": {
        "colab": {
          "base_uri": "https://localhost:8080/"
        },
        "id": "Kn5Og2hsj5Qf",
        "outputId": "722c6e0c-ba37-4080-ddc2-78a2e1c763cc"
      },
      "outputs": [
        {
          "data": {
            "text/plain": [
              "SVC()"
            ]
          },
          "execution_count": 132,
          "metadata": {},
          "output_type": "execute_result"
        }
      ],
      "source": [
        "model = SVC()\n",
        "model.fit(X_train, y_train)"
      ]
    },
    {
      "cell_type": "code",
      "execution_count": 133,
      "metadata": {
        "colab": {
          "base_uri": "https://localhost:8080/"
        },
        "id": "fNGjCSUhj5N6",
        "outputId": "9c845804-120c-4896-be7b-d15623f2930f"
      },
      "outputs": [
        {
          "name": "stdout",
          "output_type": "stream",
          "text": [
            "Accuracy: 1.0\n"
          ]
        }
      ],
      "source": [
        "y_pred = model.predict(X_test)\n",
        "print(\"Accuracy:\", metrics.accuracy_score(y_test, y_pred))"
      ]
    },
    {
      "cell_type": "code",
      "execution_count": 134,
      "metadata": {
        "id": "6ilyOBcEj5HB"
      },
      "outputs": [],
      "source": [
        "param_grid = {'C':[0.01, 0.1, 1, 10, 100, 1000], \n",
        "              'gamma':[1, 0.1, 0.01, 0.001, 0.0001, 0.00001]}"
      ]
    },
    {
      "cell_type": "code",
      "execution_count": 135,
      "metadata": {
        "id": "j_ZECC-4j5Eo"
      },
      "outputs": [],
      "source": [
        "grid = GridSearchCV(SVC(), param_grid, verbose=4)"
      ]
    },
    {
      "cell_type": "code",
      "execution_count": 136,
      "metadata": {
        "colab": {
          "base_uri": "https://localhost:8080/"
        },
        "id": "l_AKOwCFj5AQ",
        "outputId": "8f613a38-7a6d-47c6-907c-2e7f15849ce5"
      },
      "outputs": [
        {
          "name": "stdout",
          "output_type": "stream",
          "text": [
            "Fitting 5 folds for each of 36 candidates, totalling 180 fits\n",
            "[CV 1/5] END ...................C=0.01, gamma=1;, score=0.333 total time=   0.0s\n",
            "[CV 2/5] END ...................C=0.01, gamma=1;, score=0.333 total time=   0.0s\n",
            "[CV 3/5] END ...................C=0.01, gamma=1;, score=0.333 total time=   0.0s\n",
            "[CV 4/5] END ...................C=0.01, gamma=1;, score=1.000 total time=   0.0s\n",
            "[CV 5/5] END ...................C=0.01, gamma=1;, score=0.500 total time=   0.0s\n",
            "[CV 1/5] END .................C=0.01, gamma=0.1;, score=0.333 total time=   0.0s\n",
            "[CV 2/5] END .................C=0.01, gamma=0.1;, score=0.333 total time=   0.0s\n",
            "[CV 3/5] END .................C=0.01, gamma=0.1;, score=0.333 total time=   0.0s\n",
            "[CV 4/5] END .................C=0.01, gamma=0.1;, score=1.000 total time=   0.0s\n",
            "[CV 5/5] END .................C=0.01, gamma=0.1;, score=0.500 total time=   0.0s\n",
            "[CV 1/5] END ................C=0.01, gamma=0.01;, score=0.333 total time=   0.0s\n",
            "[CV 2/5] END ................C=0.01, gamma=0.01;, score=0.333 total time=   0.0s\n",
            "[CV 3/5] END ................C=0.01, gamma=0.01;, score=0.333 total time=   0.0s\n",
            "[CV 4/5] END ................C=0.01, gamma=0.01;, score=1.000 total time=   0.0s\n",
            "[CV 5/5] END ................C=0.01, gamma=0.01;, score=0.500 total time=   0.0s\n",
            "[CV 1/5] END ...............C=0.01, gamma=0.001;, score=0.333 total time=   0.0s\n",
            "[CV 2/5] END ...............C=0.01, gamma=0.001;, score=0.333 total time=   0.0s\n",
            "[CV 3/5] END ...............C=0.01, gamma=0.001;, score=0.333 total time=   0.0s\n",
            "[CV 4/5] END ...............C=0.01, gamma=0.001;, score=1.000 total time=   0.0s\n",
            "[CV 5/5] END ...............C=0.01, gamma=0.001;, score=0.500 total time=   0.0s\n",
            "[CV 1/5] END ..............C=0.01, gamma=0.0001;, score=0.333 total time=   0.0s\n",
            "[CV 2/5] END ..............C=0.01, gamma=0.0001;, score=0.333 total time=   0.0s\n",
            "[CV 3/5] END ..............C=0.01, gamma=0.0001;, score=0.333 total time=   0.0s\n",
            "[CV 4/5] END ..............C=0.01, gamma=0.0001;, score=1.000 total time=   0.0s\n",
            "[CV 5/5] END ..............C=0.01, gamma=0.0001;, score=0.500 total time=   0.0s\n",
            "[CV 1/5] END ...............C=0.01, gamma=1e-05;, score=0.333 total time=   0.0s\n",
            "[CV 2/5] END ...............C=0.01, gamma=1e-05;, score=0.333 total time=   0.0s\n",
            "[CV 3/5] END ...............C=0.01, gamma=1e-05;, score=0.333 total time=   0.0s\n",
            "[CV 4/5] END ...............C=0.01, gamma=1e-05;, score=1.000 total time=   0.0s\n",
            "[CV 5/5] END ...............C=0.01, gamma=1e-05;, score=0.500 total time=   0.0s\n",
            "[CV 1/5] END ....................C=0.1, gamma=1;, score=0.333 total time=   0.0s\n",
            "[CV 2/5] END ....................C=0.1, gamma=1;, score=0.333 total time=   0.0s\n",
            "[CV 3/5] END ....................C=0.1, gamma=1;, score=0.333 total time=   0.0s\n",
            "[CV 4/5] END ....................C=0.1, gamma=1;, score=1.000 total time=   0.0s\n",
            "[CV 5/5] END ....................C=0.1, gamma=1;, score=0.500 total time=   0.0s\n",
            "[CV 1/5] END ..................C=0.1, gamma=0.1;, score=0.333 total time=   0.0s\n",
            "[CV 2/5] END ..................C=0.1, gamma=0.1;, score=0.333 total time=   0.0s\n",
            "[CV 3/5] END ..................C=0.1, gamma=0.1;, score=0.333 total time=   0.0s\n",
            "[CV 4/5] END ..................C=0.1, gamma=0.1;, score=1.000 total time=   0.0s\n",
            "[CV 5/5] END ..................C=0.1, gamma=0.1;, score=0.500 total time=   0.0s\n",
            "[CV 1/5] END .................C=0.1, gamma=0.01;, score=0.333 total time=   0.0s\n",
            "[CV 2/5] END .................C=0.1, gamma=0.01;, score=0.333 total time=   0.0s\n",
            "[CV 3/5] END .................C=0.1, gamma=0.01;, score=0.333 total time=   0.0s\n",
            "[CV 4/5] END .................C=0.1, gamma=0.01;, score=1.000 total time=   0.0s\n",
            "[CV 5/5] END .................C=0.1, gamma=0.01;, score=0.500 total time=   0.0s\n",
            "[CV 1/5] END ................C=0.1, gamma=0.001;, score=0.333 total time=   0.0s\n",
            "[CV 2/5] END ................C=0.1, gamma=0.001;, score=0.333 total time=   0.0s\n",
            "[CV 3/5] END ................C=0.1, gamma=0.001;, score=0.333 total time=   0.0s\n",
            "[CV 4/5] END ................C=0.1, gamma=0.001;, score=1.000 total time=   0.0s\n",
            "[CV 5/5] END ................C=0.1, gamma=0.001;, score=0.500 total time=   0.0s\n",
            "[CV 1/5] END ...............C=0.1, gamma=0.0001;, score=0.333 total time=   0.0s\n",
            "[CV 2/5] END ...............C=0.1, gamma=0.0001;, score=0.333 total time=   0.0s\n",
            "[CV 3/5] END ...............C=0.1, gamma=0.0001;, score=0.333 total time=   0.0s\n",
            "[CV 4/5] END ...............C=0.1, gamma=0.0001;, score=1.000 total time=   0.0s\n",
            "[CV 5/5] END ...............C=0.1, gamma=0.0001;, score=0.500 total time=   0.0s\n",
            "[CV 1/5] END ................C=0.1, gamma=1e-05;, score=0.333 total time=   0.0s\n",
            "[CV 2/5] END ................C=0.1, gamma=1e-05;, score=0.333 total time=   0.0s\n",
            "[CV 3/5] END ................C=0.1, gamma=1e-05;, score=0.333 total time=   0.0s\n",
            "[CV 4/5] END ................C=0.1, gamma=1e-05;, score=1.000 total time=   0.0s\n",
            "[CV 5/5] END ................C=0.1, gamma=1e-05;, score=0.500 total time=   0.0s\n",
            "[CV 1/5] END ......................C=1, gamma=1;, score=0.333 total time=   0.0s\n",
            "[CV 2/5] END ......................C=1, gamma=1;, score=0.333 total time=   0.0s\n",
            "[CV 3/5] END ......................C=1, gamma=1;, score=0.333 total time=   0.0s\n",
            "[CV 4/5] END ......................C=1, gamma=1;, score=1.000 total time=   0.0s\n",
            "[CV 5/5] END ......................C=1, gamma=1;, score=0.500 total time=   0.0s\n",
            "[CV 1/5] END ....................C=1, gamma=0.1;, score=0.333 total time=   0.0s\n",
            "[CV 2/5] END ....................C=1, gamma=0.1;, score=0.333 total time=   0.0s\n",
            "[CV 3/5] END ....................C=1, gamma=0.1;, score=0.333 total time=   0.0s\n",
            "[CV 4/5] END ....................C=1, gamma=0.1;, score=1.000 total time=   0.0s\n",
            "[CV 5/5] END ....................C=1, gamma=0.1;, score=0.500 total time=   0.0s\n",
            "[CV 1/5] END ...................C=1, gamma=0.01;, score=0.333 total time=   0.0s\n",
            "[CV 2/5] END ...................C=1, gamma=0.01;, score=0.333 total time=   0.0s\n",
            "[CV 3/5] END ...................C=1, gamma=0.01;, score=0.333 total time=   0.0s\n",
            "[CV 4/5] END ...................C=1, gamma=0.01;, score=1.000 total time=   0.0s\n",
            "[CV 5/5] END ...................C=1, gamma=0.01;, score=0.500 total time=   0.0s\n",
            "[CV 1/5] END ..................C=1, gamma=0.001;, score=0.333 total time=   0.0s\n",
            "[CV 2/5] END ..................C=1, gamma=0.001;, score=0.333 total time=   0.0s\n",
            "[CV 3/5] END ..................C=1, gamma=0.001;, score=0.333 total time=   0.0s\n",
            "[CV 4/5] END ..................C=1, gamma=0.001;, score=1.000 total time=   0.0s\n",
            "[CV 5/5] END ..................C=1, gamma=0.001;, score=0.500 total time=   0.0s\n",
            "[CV 1/5] END .................C=1, gamma=0.0001;, score=0.333 total time=   0.0s\n",
            "[CV 2/5] END .................C=1, gamma=0.0001;, score=0.333 total time=   0.0s\n",
            "[CV 3/5] END .................C=1, gamma=0.0001;, score=0.333 total time=   0.0s\n",
            "[CV 4/5] END .................C=1, gamma=0.0001;, score=1.000 total time=   0.0s\n",
            "[CV 5/5] END .................C=1, gamma=0.0001;, score=0.500 total time=   0.0s\n",
            "[CV 1/5] END ..................C=1, gamma=1e-05;, score=0.333 total time=   0.0s\n",
            "[CV 2/5] END ..................C=1, gamma=1e-05;, score=0.333 total time=   0.0s\n",
            "[CV 3/5] END ..................C=1, gamma=1e-05;, score=0.333 total time=   0.0s\n",
            "[CV 4/5] END ..................C=1, gamma=1e-05;, score=1.000 total time=   0.0s\n",
            "[CV 5/5] END ..................C=1, gamma=1e-05;, score=0.500 total time=   0.0s\n",
            "[CV 1/5] END .....................C=10, gamma=1;, score=0.667 total time=   0.0s\n",
            "[CV 2/5] END .....................C=10, gamma=1;, score=0.667 total time=   0.0s\n",
            "[CV 3/5] END .....................C=10, gamma=1;, score=0.333 total time=   0.0s\n",
            "[CV 4/5] END .....................C=10, gamma=1;, score=1.000 total time=   0.0s\n",
            "[CV 5/5] END .....................C=10, gamma=1;, score=1.000 total time=   0.0s\n",
            "[CV 1/5] END ...................C=10, gamma=0.1;, score=0.333 total time=   0.0s\n",
            "[CV 2/5] END ...................C=10, gamma=0.1;, score=0.333 total time=   0.0s\n",
            "[CV 3/5] END ...................C=10, gamma=0.1;, score=0.333 total time=   0.0s\n",
            "[CV 4/5] END ...................C=10, gamma=0.1;, score=1.000 total time=   0.0s\n",
            "[CV 5/5] END ...................C=10, gamma=0.1;, score=0.500 total time=   0.0s\n",
            "[CV 1/5] END ..................C=10, gamma=0.01;, score=0.333 total time=   0.0s\n",
            "[CV 2/5] END ..................C=10, gamma=0.01;, score=0.333 total time=   0.0s\n",
            "[CV 3/5] END ..................C=10, gamma=0.01;, score=0.333 total time=   0.0s\n",
            "[CV 4/5] END ..................C=10, gamma=0.01;, score=1.000 total time=   0.0s\n",
            "[CV 5/5] END ..................C=10, gamma=0.01;, score=0.500 total time=   0.0s\n",
            "[CV 1/5] END .................C=10, gamma=0.001;, score=0.333 total time=   0.0s\n",
            "[CV 2/5] END .................C=10, gamma=0.001;, score=0.333 total time=   0.0s\n",
            "[CV 3/5] END .................C=10, gamma=0.001;, score=0.333 total time=   0.0s\n",
            "[CV 4/5] END .................C=10, gamma=0.001;, score=1.000 total time=   0.0s\n",
            "[CV 5/5] END .................C=10, gamma=0.001;, score=0.500 total time=   0.0s\n",
            "[CV 1/5] END ................C=10, gamma=0.0001;, score=0.333 total time=   0.0s\n",
            "[CV 2/5] END ................C=10, gamma=0.0001;, score=0.333 total time=   0.0s\n",
            "[CV 3/5] END ................C=10, gamma=0.0001;, score=0.333 total time=   0.0s\n",
            "[CV 4/5] END ................C=10, gamma=0.0001;, score=1.000 total time=   0.0s\n",
            "[CV 5/5] END ................C=10, gamma=0.0001;, score=0.500 total time=   0.0s\n",
            "[CV 1/5] END .................C=10, gamma=1e-05;, score=0.333 total time=   0.0s\n",
            "[CV 2/5] END .................C=10, gamma=1e-05;, score=0.333 total time=   0.0s\n",
            "[CV 3/5] END .................C=10, gamma=1e-05;, score=0.333 total time=   0.0s\n",
            "[CV 4/5] END .................C=10, gamma=1e-05;, score=1.000 total time=   0.0s\n",
            "[CV 5/5] END .................C=10, gamma=1e-05;, score=0.500 total time=   0.0s\n"
          ]
        },
        {
          "name": "stderr",
          "output_type": "stream",
          "text": [
            "c:\\Users\\martinez\\anaconda3\\lib\\site-packages\\sklearn\\model_selection\\_split.py:676: UserWarning: The least populated class in y has only 3 members, which is less than n_splits=5.\n",
            "  warnings.warn(\n"
          ]
        },
        {
          "name": "stdout",
          "output_type": "stream",
          "text": [
            "[CV 1/5] END ....................C=100, gamma=1;, score=0.667 total time=   0.0s\n",
            "[CV 2/5] END ....................C=100, gamma=1;, score=0.667 total time=   0.0s\n",
            "[CV 3/5] END ....................C=100, gamma=1;, score=0.667 total time=   0.0s\n",
            "[CV 4/5] END ....................C=100, gamma=1;, score=1.000 total time=   0.0s\n",
            "[CV 5/5] END ....................C=100, gamma=1;, score=1.000 total time=   0.0s\n",
            "[CV 1/5] END ..................C=100, gamma=0.1;, score=0.667 total time=   0.0s\n",
            "[CV 2/5] END ..................C=100, gamma=0.1;, score=0.667 total time=   0.0s\n",
            "[CV 3/5] END ..................C=100, gamma=0.1;, score=0.333 total time=   0.0s\n",
            "[CV 4/5] END ..................C=100, gamma=0.1;, score=1.000 total time=   0.0s\n",
            "[CV 5/5] END ..................C=100, gamma=0.1;, score=1.000 total time=   0.0s\n",
            "[CV 1/5] END .................C=100, gamma=0.01;, score=0.333 total time=   0.0s\n",
            "[CV 2/5] END .................C=100, gamma=0.01;, score=0.333 total time=   0.0s\n",
            "[CV 3/5] END .................C=100, gamma=0.01;, score=0.333 total time=   0.0s\n",
            "[CV 4/5] END .................C=100, gamma=0.01;, score=1.000 total time=   0.0s\n",
            "[CV 5/5] END .................C=100, gamma=0.01;, score=0.500 total time=   0.0s\n",
            "[CV 1/5] END ................C=100, gamma=0.001;, score=0.333 total time=   0.0s\n",
            "[CV 2/5] END ................C=100, gamma=0.001;, score=0.333 total time=   0.0s\n",
            "[CV 3/5] END ................C=100, gamma=0.001;, score=0.333 total time=   0.0s\n",
            "[CV 4/5] END ................C=100, gamma=0.001;, score=1.000 total time=   0.0s\n",
            "[CV 5/5] END ................C=100, gamma=0.001;, score=0.500 total time=   0.0s\n",
            "[CV 1/5] END ...............C=100, gamma=0.0001;, score=0.333 total time=   0.0s\n",
            "[CV 2/5] END ...............C=100, gamma=0.0001;, score=0.333 total time=   0.0s\n",
            "[CV 3/5] END ...............C=100, gamma=0.0001;, score=0.333 total time=   0.0s\n",
            "[CV 4/5] END ...............C=100, gamma=0.0001;, score=1.000 total time=   0.0s\n",
            "[CV 5/5] END ...............C=100, gamma=0.0001;, score=0.500 total time=   0.0s\n",
            "[CV 1/5] END ................C=100, gamma=1e-05;, score=0.333 total time=   0.0s\n",
            "[CV 2/5] END ................C=100, gamma=1e-05;, score=0.333 total time=   0.0s\n",
            "[CV 3/5] END ................C=100, gamma=1e-05;, score=0.333 total time=   0.0s\n",
            "[CV 4/5] END ................C=100, gamma=1e-05;, score=1.000 total time=   0.0s\n",
            "[CV 5/5] END ................C=100, gamma=1e-05;, score=0.500 total time=   0.0s\n",
            "[CV 1/5] END ...................C=1000, gamma=1;, score=0.667 total time=   0.0s\n",
            "[CV 2/5] END ...................C=1000, gamma=1;, score=1.000 total time=   0.0s\n",
            "[CV 3/5] END ...................C=1000, gamma=1;, score=0.667 total time=   0.0s\n",
            "[CV 4/5] END ...................C=1000, gamma=1;, score=1.000 total time=   0.0s\n",
            "[CV 5/5] END ...................C=1000, gamma=1;, score=1.000 total time=   0.0s\n",
            "[CV 1/5] END .................C=1000, gamma=0.1;, score=0.667 total time=   0.0s\n",
            "[CV 2/5] END .................C=1000, gamma=0.1;, score=1.000 total time=   0.0s\n",
            "[CV 3/5] END .................C=1000, gamma=0.1;, score=0.667 total time=   0.0s\n",
            "[CV 4/5] END .................C=1000, gamma=0.1;, score=1.000 total time=   0.0s\n",
            "[CV 5/5] END .................C=1000, gamma=0.1;, score=1.000 total time=   0.0s\n",
            "[CV 1/5] END ................C=1000, gamma=0.01;, score=0.667 total time=   0.0s\n",
            "[CV 2/5] END ................C=1000, gamma=0.01;, score=0.667 total time=   0.0s\n",
            "[CV 3/5] END ................C=1000, gamma=0.01;, score=0.333 total time=   0.0s\n",
            "[CV 4/5] END ................C=1000, gamma=0.01;, score=1.000 total time=   0.0s\n",
            "[CV 5/5] END ................C=1000, gamma=0.01;, score=1.000 total time=   0.0s\n",
            "[CV 1/5] END ...............C=1000, gamma=0.001;, score=0.333 total time=   0.0s\n",
            "[CV 2/5] END ...............C=1000, gamma=0.001;, score=0.333 total time=   0.0s\n",
            "[CV 3/5] END ...............C=1000, gamma=0.001;, score=0.333 total time=   0.0s\n",
            "[CV 4/5] END ...............C=1000, gamma=0.001;, score=1.000 total time=   0.0s\n",
            "[CV 5/5] END ...............C=1000, gamma=0.001;, score=0.500 total time=   0.0s\n",
            "[CV 1/5] END ..............C=1000, gamma=0.0001;, score=0.333 total time=   0.0s\n",
            "[CV 2/5] END ..............C=1000, gamma=0.0001;, score=0.333 total time=   0.0s\n",
            "[CV 3/5] END ..............C=1000, gamma=0.0001;, score=0.333 total time=   0.0s\n",
            "[CV 4/5] END ..............C=1000, gamma=0.0001;, score=1.000 total time=   0.0s\n",
            "[CV 5/5] END ..............C=1000, gamma=0.0001;, score=0.500 total time=   0.0s\n",
            "[CV 1/5] END ...............C=1000, gamma=1e-05;, score=0.333 total time=   0.0s\n",
            "[CV 2/5] END ...............C=1000, gamma=1e-05;, score=0.333 total time=   0.0s\n",
            "[CV 3/5] END ...............C=1000, gamma=1e-05;, score=0.333 total time=   0.0s\n",
            "[CV 4/5] END ...............C=1000, gamma=1e-05;, score=1.000 total time=   0.0s\n",
            "[CV 5/5] END ...............C=1000, gamma=1e-05;, score=0.500 total time=   0.0s\n"
          ]
        },
        {
          "data": {
            "text/plain": [
              "GridSearchCV(estimator=SVC(),\n",
              "             param_grid={'C': [0.01, 0.1, 1, 10, 100, 1000],\n",
              "                         'gamma': [1, 0.1, 0.01, 0.001, 0.0001, 1e-05]},\n",
              "             verbose=4)"
            ]
          },
          "execution_count": 136,
          "metadata": {},
          "output_type": "execute_result"
        }
      ],
      "source": [
        "grid.fit(X_train, y_train)"
      ]
    },
    {
      "cell_type": "code",
      "execution_count": 137,
      "metadata": {
        "colab": {
          "base_uri": "https://localhost:8080/"
        },
        "id": "Ko9Plpq3kGbD",
        "outputId": "0443d451-3c6e-4238-a588-533e50e68066"
      },
      "outputs": [
        {
          "data": {
            "text/plain": [
              "{'C': 1000, 'gamma': 1}"
            ]
          },
          "execution_count": 137,
          "metadata": {},
          "output_type": "execute_result"
        }
      ],
      "source": [
        "grid.best_params_"
      ]
    },
    {
      "cell_type": "code",
      "execution_count": 138,
      "metadata": {
        "colab": {
          "base_uri": "https://localhost:8080/"
        },
        "id": "L4yTsYdDkGYr",
        "outputId": "0ab57cb6-4849-4bc2-f3d1-59524ccc4c72"
      },
      "outputs": [
        {
          "data": {
            "text/plain": [
              "SVC(C=1000, gamma=1)"
            ]
          },
          "execution_count": 138,
          "metadata": {},
          "output_type": "execute_result"
        }
      ],
      "source": [
        "grid.best_estimator_"
      ]
    },
    {
      "cell_type": "code",
      "execution_count": 139,
      "metadata": {
        "colab": {
          "base_uri": "https://localhost:8080/"
        },
        "id": "NG4q1hE3kGWj",
        "outputId": "4774bfb2-78d9-41cf-96b6-41be4370d1c4"
      },
      "outputs": [
        {
          "name": "stdout",
          "output_type": "stream",
          "text": [
            "Accuracy: 1.0\n"
          ]
        }
      ],
      "source": [
        "grid_pred = grid.predict(X_test)\n",
        "print(\"Accuracy:\", metrics.accuracy_score(y_test, grid_pred))"
      ]
    },
    {
      "cell_type": "markdown",
      "metadata": {
        "id": "e4y5UyManMKv"
      },
      "source": [
        "### Añadiendo un nuevo valor:"
      ]
    },
    {
      "cell_type": "code",
      "execution_count": 140,
      "metadata": {
        "id": "D7jQO5CRnOlX"
      },
      "outputs": [],
      "source": [
        "datos = np.array([[0.2, 0.3], [0.3, 0.5], [0.5, 0.7], [0.1, 0.9]])"
      ]
    },
    {
      "cell_type": "code",
      "execution_count": 141,
      "metadata": {},
      "outputs": [
        {
          "data": {
            "image/png": "[encoded data removed]",
            "text/plain": [
              "<Figure size 640x480 with 1 Axes>"
            ]
          },
          "metadata": {},
          "output_type": "display_data"
        }
      ],
      "source": [
        "# Grafica con los nuevos datos\n",
        "plt.scatter(X1, X2, c=y, s=100, marker='o', alpha=0.5)\n",
        "plt.scatter(datos[:, 0], datos[:, 1], s=100, marker='^', alpha=0.8)\n",
        "plt.xticks(())\n",
        "plt.yticks(())\n",
        "plt.show()"
      ]
    },
    {
      "cell_type": "code",
      "execution_count": 142,
      "metadata": {},
      "outputs": [
        {
          "name": "stdout",
          "output_type": "stream",
          "text": [
            "Clase: [0 1 2 0]\n"
          ]
        }
      ],
      "source": [
        "#Calcular clase y probabilidades sin el grid\n",
        "print(\"Clase:\", model.predict(datos))"
      ]
    },
    {
      "cell_type": "code",
      "execution_count": 143,
      "metadata": {
        "colab": {
          "base_uri": "https://localhost:8080/"
        },
        "id": "sklQzKB7nx8X",
        "outputId": "fad62206-aca6-4fa5-deaf-c6f12d68fb52"
      },
      "outputs": [
        {
          "name": "stdout",
          "output_type": "stream",
          "text": [
            "Clase: [0 1 2 0]\n"
          ]
        }
      ],
      "source": [
        "#Calcular clase y probabilidades con el grid\n",
        "print(\"Clase:\", grid.predict(datos))"
      ]
    }
  ],
  "metadata": {
    "colab": {
      "authorship_tag": "ABX9TyPDUpXOpMVjRQxFniNDsizo",
      "include_colab_link": true,
      "provenance": []
    },
    "kernelspec": {
      "display_name": "base",
      "language": "python",
      "name": "python3"
    },
    "language_info": {
      "codemirror_mode": {
        "name": "ipython",
        "version": 3
      },
      "file_extension": ".py",
      "mimetype": "text/x-python",
      "name": "python",
      "nbconvert_exporter": "python",
      "pygments_lexer": "ipython3",
      "version": "3.9.13"
    },
    "vscode": {
      "interpreter": {
        "hash": "5ce9d49d1db7e2be872b3025ad08649992f53292826e9d18a778168b6f741ddf"
      }
    }
  },
  "nbformat": 4,
  "nbformat_minor": 0
}
