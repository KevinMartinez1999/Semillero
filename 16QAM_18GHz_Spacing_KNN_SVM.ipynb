{
 "cells": [
  {
   "attachments": {},
   "cell_type": "markdown",
   "metadata": {},
   "source": [
    "# Demodulación con tralapamiento de 18GHz usando KNN y SVM"
   ]
  },
  {
   "cell_type": "code",
   "execution_count": 1,
   "metadata": {},
   "outputs": [],
   "source": [
    "import numpy as np\n",
    "import matplotlib.pyplot as plt\n",
    "import pandas as pd\n",
    "import scipy.io as sio\n",
    "import warnings\n",
    "from numpy import pi\n",
    "from sklearn.neighbors import KNeighborsClassifier\n",
    "from sklearn.svm import SVC\n",
    "from sklearn.tree import DecisionTreeClassifier\n",
    "from sklearn.model_selection import GridSearchCV\n",
    "from sklearn.model_selection import train_test_split\n",
    "from sklearn import metrics\n",
    "from sofa_sem import *"
   ]
  },
  {
   "attachments": {},
   "cell_type": "markdown",
   "metadata": {},
   "source": [
    "- 18dB -> 0\n",
    "- 19dB -> pi\n",
    "- 40dB -> pi/2"
   ]
  },
  {
   "cell_type": "code",
   "execution_count": 2,
   "metadata": {},
   "outputs": [],
   "source": [
    "warnings.filterwarnings(\"ignore\", category=FutureWarning)"
   ]
  },
  {
   "cell_type": "code",
   "execution_count": 3,
   "metadata": {},
   "outputs": [
    {
     "data": {
      "text/html": [
       "<div>\n",
       "<style scoped>\n",
       "    .dataframe tbody tr th:only-of-type {\n",
       "        vertical-align: middle;\n",
       "    }\n",
       "\n",
       "    .dataframe tbody tr th {\n",
       "        vertical-align: top;\n",
       "    }\n",
       "\n",
       "    .dataframe thead th {\n",
       "        text-align: right;\n",
       "    }\n",
       "</style>\n",
       "<table border=\"1\" class=\"dataframe\">\n",
       "  <thead>\n",
       "    <tr style=\"text-align: right;\">\n",
       "      <th></th>\n",
       "      <th>Rx_18dB</th>\n",
       "      <th>Rx_19dB</th>\n",
       "      <th>Rx_20dB</th>\n",
       "      <th>Rx_23dB</th>\n",
       "      <th>Rx_25dB</th>\n",
       "      <th>Rx_27dB</th>\n",
       "      <th>Rx_30dB</th>\n",
       "      <th>Rx_32dB</th>\n",
       "      <th>Rx_35dB</th>\n",
       "      <th>Rx_40dB</th>\n",
       "    </tr>\n",
       "  </thead>\n",
       "  <tbody>\n",
       "    <tr>\n",
       "      <th>0</th>\n",
       "      <td>-3.069190+3.093718j</td>\n",
       "      <td>3.301921+2.960092j</td>\n",
       "      <td>-2.583398-0.512261j</td>\n",
       "      <td>0.700600-2.791327j</td>\n",
       "      <td>-1.032295-0.397713j</td>\n",
       "      <td>0.956442-0.879999j</td>\n",
       "      <td>-3.173633+1.518858j</td>\n",
       "      <td>1.110088+2.609396j</td>\n",
       "      <td>3.081959+2.918820j</td>\n",
       "      <td>1.008111+2.592541j</td>\n",
       "    </tr>\n",
       "    <tr>\n",
       "      <th>1</th>\n",
       "      <td>-2.034063-2.364055j</td>\n",
       "      <td>-0.798257+2.966340j</td>\n",
       "      <td>-3.086112+3.036949j</td>\n",
       "      <td>0.727637-1.183303j</td>\n",
       "      <td>1.308137+0.854649j</td>\n",
       "      <td>-1.010922+2.829046j</td>\n",
       "      <td>3.078156-2.657479j</td>\n",
       "      <td>0.977644-1.185567j</td>\n",
       "      <td>-2.877567+2.770224j</td>\n",
       "      <td>1.208879+0.764721j</td>\n",
       "    </tr>\n",
       "    <tr>\n",
       "      <th>2</th>\n",
       "      <td>0.321908-3.153256j</td>\n",
       "      <td>-0.218863-3.499519j</td>\n",
       "      <td>-2.299697+1.811892j</td>\n",
       "      <td>0.898178-2.596472j</td>\n",
       "      <td>-0.966997-1.368756j</td>\n",
       "      <td>-0.570055-0.639393j</td>\n",
       "      <td>-2.647758-2.400241j</td>\n",
       "      <td>0.913222-2.414261j</td>\n",
       "      <td>2.909831-0.943083j</td>\n",
       "      <td>1.057287+0.946525j</td>\n",
       "    </tr>\n",
       "    <tr>\n",
       "      <th>3</th>\n",
       "      <td>-2.461243+0.049003j</td>\n",
       "      <td>-0.279428+3.173962j</td>\n",
       "      <td>2.670637-2.603177j</td>\n",
       "      <td>-2.472496-2.428874j</td>\n",
       "      <td>-1.078099-1.178213j</td>\n",
       "      <td>1.248903-0.794159j</td>\n",
       "      <td>3.380232-3.157480j</td>\n",
       "      <td>-0.881354+0.781118j</td>\n",
       "      <td>0.616789-2.850858j</td>\n",
       "      <td>3.076407-0.966838j</td>\n",
       "    </tr>\n",
       "    <tr>\n",
       "      <th>4</th>\n",
       "      <td>0.817104-0.815005j</td>\n",
       "      <td>-2.416293-0.113984j</td>\n",
       "      <td>-3.106827-1.237516j</td>\n",
       "      <td>1.086706-0.607300j</td>\n",
       "      <td>2.924721-1.076106j</td>\n",
       "      <td>-2.595114+2.888462j</td>\n",
       "      <td>0.735512-1.264985j</td>\n",
       "      <td>2.524879-0.742290j</td>\n",
       "      <td>-0.951538+1.124904j</td>\n",
       "      <td>-2.679746-1.149469j</td>\n",
       "    </tr>\n",
       "  </tbody>\n",
       "</table>\n",
       "</div>"
      ],
      "text/plain": [
       "              Rx_18dB             Rx_19dB             Rx_20dB  \\\n",
       "0 -3.069190+3.093718j  3.301921+2.960092j -2.583398-0.512261j   \n",
       "1 -2.034063-2.364055j -0.798257+2.966340j -3.086112+3.036949j   \n",
       "2  0.321908-3.153256j -0.218863-3.499519j -2.299697+1.811892j   \n",
       "3 -2.461243+0.049003j -0.279428+3.173962j  2.670637-2.603177j   \n",
       "4  0.817104-0.815005j -2.416293-0.113984j -3.106827-1.237516j   \n",
       "\n",
       "              Rx_23dB             Rx_25dB             Rx_27dB  \\\n",
       "0  0.700600-2.791327j -1.032295-0.397713j  0.956442-0.879999j   \n",
       "1  0.727637-1.183303j  1.308137+0.854649j -1.010922+2.829046j   \n",
       "2  0.898178-2.596472j -0.966997-1.368756j -0.570055-0.639393j   \n",
       "3 -2.472496-2.428874j -1.078099-1.178213j  1.248903-0.794159j   \n",
       "4  1.086706-0.607300j  2.924721-1.076106j -2.595114+2.888462j   \n",
       "\n",
       "              Rx_30dB             Rx_32dB             Rx_35dB  \\\n",
       "0 -3.173633+1.518858j  1.110088+2.609396j  3.081959+2.918820j   \n",
       "1  3.078156-2.657479j  0.977644-1.185567j -2.877567+2.770224j   \n",
       "2 -2.647758-2.400241j  0.913222-2.414261j  2.909831-0.943083j   \n",
       "3  3.380232-3.157480j -0.881354+0.781118j  0.616789-2.850858j   \n",
       "4  0.735512-1.264985j  2.524879-0.742290j -0.951538+1.124904j   \n",
       "\n",
       "              Rx_40dB  \n",
       "0  1.008111+2.592541j  \n",
       "1  1.208879+0.764721j  \n",
       "2  1.057287+0.946525j  \n",
       "3  3.076407-0.966838j  \n",
       "4 -2.679746-1.149469j  "
      ]
     },
     "execution_count": 3,
     "metadata": {},
     "output_type": "execute_result"
    }
   ],
   "source": [
    "SNR = [18, 19, 20, 23, 25, 27, 30, 32, 35, 40]\n",
    "df = pd.DataFrame()\n",
    "for i in SNR:\n",
    "    data_rx = sio.loadmat(f'Distances\\\\18GHz\\\\16QAM_3x16GBd_consY{i}dB.mat')\n",
    "    data_rx = 3 * (data_rx['const_Y'] - data_rx['const_Y'].mean()) / data_rx['const_Y'].std()\n",
    "    df[f'Rx_{i}dB'] = np.transpose(data_rx).flatten()\n",
    "df.head()"
   ]
  },
  {
   "cell_type": "code",
   "execution_count": 4,
   "metadata": {},
   "outputs": [
    {
     "data": {
      "text/html": [
       "<div>\n",
       "<style scoped>\n",
       "    .dataframe tbody tr th:only-of-type {\n",
       "        vertical-align: middle;\n",
       "    }\n",
       "\n",
       "    .dataframe tbody tr th {\n",
       "        vertical-align: top;\n",
       "    }\n",
       "\n",
       "    .dataframe thead th {\n",
       "        text-align: right;\n",
       "    }\n",
       "</style>\n",
       "<table border=\"1\" class=\"dataframe\">\n",
       "  <thead>\n",
       "    <tr style=\"text-align: right;\">\n",
       "      <th></th>\n",
       "      <th>Tx</th>\n",
       "    </tr>\n",
       "  </thead>\n",
       "  <tbody>\n",
       "    <tr>\n",
       "      <th>0</th>\n",
       "      <td>3.0+3.0j</td>\n",
       "    </tr>\n",
       "    <tr>\n",
       "      <th>1</th>\n",
       "      <td>-3.0-3.0j</td>\n",
       "    </tr>\n",
       "    <tr>\n",
       "      <th>2</th>\n",
       "      <td>3.0-1.0j</td>\n",
       "    </tr>\n",
       "    <tr>\n",
       "      <th>3</th>\n",
       "      <td>-3.0+3.0j</td>\n",
       "    </tr>\n",
       "    <tr>\n",
       "      <th>4</th>\n",
       "      <td>-3.0+3.0j</td>\n",
       "    </tr>\n",
       "  </tbody>\n",
       "</table>\n",
       "</div>"
      ],
      "text/plain": [
       "         Tx\n",
       "0  3.0+3.0j\n",
       "1 -3.0-3.0j\n",
       "2  3.0-1.0j\n",
       "3 -3.0+3.0j\n",
       "4 -3.0+3.0j"
      ]
     },
     "execution_count": 4,
     "metadata": {},
     "output_type": "execute_result"
    }
   ],
   "source": [
    "# Datos experimentales transmitidos (Tx)\n",
    "data_tx = sio.loadmat('Distances\\\\2x16QAM_16GBd.mat')\n",
    "data_tx = data_tx['Constellation'].flatten()[0][0]\n",
    "df_tx = pd.DataFrame(np.transpose(data_tx), columns = ['Tx'])\n",
    "df_tx.head()"
   ]
  },
  {
   "cell_type": "code",
   "execution_count": 5,
   "metadata": {},
   "outputs": [],
   "source": [
    "sync_tx = [sync_signals(df_tx['Tx'], df[f'Rx_{i}dB']) for i in SNR]"
   ]
  },
  {
   "cell_type": "code",
   "execution_count": 6,
   "metadata": {},
   "outputs": [],
   "source": [
    "y = [demodulate(sync_tx[i]) for i in range(len(SNR))]"
   ]
  },
  {
   "attachments": {},
   "cell_type": "markdown",
   "metadata": {},
   "source": [
    "## Preparación de los datos"
   ]
  },
  {
   "cell_type": "code",
   "execution_count": 7,
   "metadata": {},
   "outputs": [],
   "source": [
    "Xr = [np.real(df[f'Rx_{i}dB']) for i in SNR]\n",
    "Xi = [np.imag(df[f'Rx_{i}dB']) for i in SNR]"
   ]
  },
  {
   "cell_type": "code",
   "execution_count": 8,
   "metadata": {},
   "outputs": [],
   "source": [
    "X = [np.transpose(np.array([Xr[i], Xi[i]])) for i in range(len(SNR))]"
   ]
  },
  {
   "attachments": {},
   "cell_type": "markdown",
   "metadata": {},
   "source": [
    "## Modelo KNN"
   ]
  },
  {
   "cell_type": "code",
   "execution_count": 9,
   "metadata": {},
   "outputs": [],
   "source": [
    "ber_knn = []\n",
    "for it in range(len(SNR)):\n",
    "    # Dividir los datos en conjuntos de entrenamiento y prueba\n",
    "    X_train, X_test, y_train, y_test = train_test_split(X[it], y[it], test_size=0.4)\n",
    "\n",
    "    # Instanciar el modelo k-NN\n",
    "    model = KNeighborsClassifier(n_neighbors=5)\n",
    "\n",
    "    # Entrenar el modelo con los datos de entrenamiento\n",
    "    model.fit(X_train, y_train)\n",
    "\n",
    "    # Calcular la precisión del modelo en los datos de prueba\n",
    "    y_pred = model.predict(X_test)\n",
    "    #print(\"Accuracy:\", metrics.accuracy_score(y_test, y_pred))\n",
    "\n",
    "    # Calcular Tasa de Error de Bit\n",
    "    ber, ber_error = bit_error_rate(y_test, y_pred)\n",
    "    ber_knn.append(ber)"
   ]
  },
  {
   "attachments": {},
   "cell_type": "markdown",
   "metadata": {},
   "source": [
    "## Modelo SVM"
   ]
  },
  {
   "cell_type": "code",
   "execution_count": 10,
   "metadata": {},
   "outputs": [],
   "source": [
    "ber_svm = []\n",
    "for it in range(len(SNR)):\n",
    "    # Dividir los datos en conjuntos de entrenamiento y prueba\n",
    "    X_train, X_test, y_train, y_test = train_test_split(X[it], y[it], test_size=0.4)\n",
    "\n",
    "    # Instanciar el modelo SVC\n",
    "    model = SVC()\n",
    "\n",
    "    # Entrenar el modelo con los datos de entrenamiento\n",
    "    model.fit(X_train, y_train)\n",
    "\n",
    "    # Calcular la precisión del modelo en los datos de prueba\n",
    "    y_pred = model.predict(X_test)\n",
    "    #print(\"Accuracy:\", metrics.accuracy_score(y_test, y_pred))\n",
    "\n",
    "    # Calcular Tasa de Error de Bit\n",
    "    ber, ber_error = bit_error_rate(y_test, y_pred)\n",
    "    ber_svm.append(ber)"
   ]
  },
  {
   "attachments": {},
   "cell_type": "markdown",
   "metadata": {},
   "source": [
    "## Arboles de decisión"
   ]
  },
  {
   "cell_type": "code",
   "execution_count": 11,
   "metadata": {},
   "outputs": [],
   "source": [
    "ber_tree = []\n",
    "for it in range(len(SNR)):\n",
    "    # Dividir los datos en conjuntos de entrenamiento y prueba\n",
    "    X_train, X_test, y_train, y_test = train_test_split(X[it], y[it], test_size=0.4)\n",
    "\n",
    "    # Instanciar el modelo de arboles de decisión\n",
    "    model = DecisionTreeClassifier()\n",
    "\n",
    "    # Entrenar el modelo con los datos de entrenamiento\n",
    "    model.fit(X_train, y_train)\n",
    "\n",
    "    # Calcular la precisión del modelo en los datos de prueba\n",
    "    y_pred = model.predict(X_test)\n",
    "    #print(\"Accuracy:\", metrics.accuracy_score(y_test, y_pred))\n",
    "\n",
    "    # Calcular Tasa de Error de Bit\n",
    "    ber, ber_error = bit_error_rate(y_test, y_pred)\n",
    "    ber_tree.append(ber)"
   ]
  },
  {
   "attachments": {},
   "cell_type": "markdown",
   "metadata": {},
   "source": [
    "## Comparación entre los modelos"
   ]
  },
  {
   "cell_type": "code",
   "execution_count": 12,
   "metadata": {},
   "outputs": [
    {
     "data": {
      "image/png": "[encoded data removed]",
      "text/plain": [
       "<Figure size 640x480 with 1 Axes>"
      ]
     },
     "metadata": {},
     "output_type": "display_data"
    }
   ],
   "source": [
    "plt.plot(SNR, np.log10(ber_knn), marker='o', label='KNN (5 vecinos)')\n",
    "plt.plot(SNR, np.log10(ber_svm), marker='^', label='SVM')\n",
    "plt.plot(SNR, np.log10(ber_tree), marker='s', label='DTL')\n",
    "plt.title('18GHz traslapamiento con 0.4 de prueba')\n",
    "plt.xlabel('$SNR$')\n",
    "plt.ylabel('$Log_{10}(BER)$')\n",
    "plt.legend()\n",
    "plt.grid()\n",
    "plt.show()"
   ]
  }
 ],
 "metadata": {
  "kernelspec": {
   "display_name": "base",
   "language": "python",
   "name": "python3"
  },
  "language_info": {
   "codemirror_mode": {
    "name": "ipython",
    "version": 3
   },
   "file_extension": ".py",
   "mimetype": "text/x-python",
   "name": "python",
   "nbconvert_exporter": "python",
   "pygments_lexer": "ipython3",
   "version": "3.9.13"
  },
  "orig_nbformat": 4,
  "vscode": {
   "interpreter": {
    "hash": "5ce9d49d1db7e2be872b3025ad08649992f53292826e9d18a778168b6f741ddf"
   }
  }
 },
 "nbformat": 4,
 "nbformat_minor": 2
}
