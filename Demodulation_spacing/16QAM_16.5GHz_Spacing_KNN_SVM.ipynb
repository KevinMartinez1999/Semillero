{
 "cells": [
  {
   "attachments": {},
   "cell_type": "markdown",
   "metadata": {},
   "source": [
    "# Demodulación con tralapamiento de 16.5GHz usando KNN y SVM"
   ]
  },
  {
   "cell_type": "code",
   "execution_count": 1,
   "metadata": {},
   "outputs": [],
   "source": [
    "import numpy as np\n",
    "import matplotlib.pyplot as plt\n",
    "import pandas as pd\n",
    "import scipy.io as sio\n",
    "import warnings\n",
    "from numpy import pi\n",
    "from sklearn.neighbors import KNeighborsClassifier\n",
    "from sklearn.svm import SVC\n",
    "from sklearn.tree import DecisionTreeClassifier\n",
    "from sklearn.model_selection import GridSearchCV\n",
    "from sklearn.model_selection import train_test_split\n",
    "from sklearn import metrics\n",
    "from sofa_sem import *"
   ]
  },
  {
   "cell_type": "code",
   "execution_count": 2,
   "metadata": {},
   "outputs": [],
   "source": [
    "warnings.filterwarnings(\"ignore\", category=FutureWarning)"
   ]
  },
  {
   "cell_type": "code",
   "execution_count": 3,
   "metadata": {},
   "outputs": [
    {
     "data": {
      "text/html": [
       "<div>\n",
       "<style scoped>\n",
       "    .dataframe tbody tr th:only-of-type {\n",
       "        vertical-align: middle;\n",
       "    }\n",
       "\n",
       "    .dataframe tbody tr th {\n",
       "        vertical-align: top;\n",
       "    }\n",
       "\n",
       "    .dataframe thead th {\n",
       "        text-align: right;\n",
       "    }\n",
       "</style>\n",
       "<table border=\"1\" class=\"dataframe\">\n",
       "  <thead>\n",
       "    <tr style=\"text-align: right;\">\n",
       "      <th></th>\n",
       "      <th>Rx_18dB</th>\n",
       "      <th>Rx_19dB</th>\n",
       "      <th>Rx_20dB</th>\n",
       "      <th>Rx_21.5dB</th>\n",
       "      <th>Rx_23dB</th>\n",
       "      <th>Rx_25dB</th>\n",
       "      <th>Rx_27dB</th>\n",
       "      <th>Rx_30dB</th>\n",
       "      <th>Rx_32dB</th>\n",
       "      <th>Rx_35dB</th>\n",
       "      <th>Rx_40dB</th>\n",
       "    </tr>\n",
       "  </thead>\n",
       "  <tbody>\n",
       "    <tr>\n",
       "      <th>0</th>\n",
       "      <td>2.922743+1.563684j</td>\n",
       "      <td>-2.349517-0.165806j</td>\n",
       "      <td>-3.131523-0.453934j</td>\n",
       "      <td>-0.843933-0.245631j</td>\n",
       "      <td>-1.425934+3.028946j</td>\n",
       "      <td>-0.644922+1.306181j</td>\n",
       "      <td>-0.660060+0.773723j</td>\n",
       "      <td>1.317205-2.685166j</td>\n",
       "      <td>0.840127+0.855696j</td>\n",
       "      <td>1.154788-3.057620j</td>\n",
       "      <td>2.461340-0.940915j</td>\n",
       "    </tr>\n",
       "    <tr>\n",
       "      <th>1</th>\n",
       "      <td>3.664914-3.297701j</td>\n",
       "      <td>2.512704-0.802292j</td>\n",
       "      <td>-1.867543-0.199805j</td>\n",
       "      <td>1.423477-1.322961j</td>\n",
       "      <td>-2.458962-0.133573j</td>\n",
       "      <td>2.485929+2.276223j</td>\n",
       "      <td>2.577275+1.983883j</td>\n",
       "      <td>3.286729-3.267752j</td>\n",
       "      <td>-1.025953-0.201832j</td>\n",
       "      <td>0.423191-1.121941j</td>\n",
       "      <td>-1.018135-0.860959j</td>\n",
       "    </tr>\n",
       "    <tr>\n",
       "      <th>2</th>\n",
       "      <td>-0.927575-0.829744j</td>\n",
       "      <td>-1.113728+0.961059j</td>\n",
       "      <td>-2.328866+2.126594j</td>\n",
       "      <td>3.149439-2.865829j</td>\n",
       "      <td>0.274055-2.873713j</td>\n",
       "      <td>-1.255186+3.043198j</td>\n",
       "      <td>2.875647+0.978071j</td>\n",
       "      <td>2.403130-0.912156j</td>\n",
       "      <td>-2.984453+1.256289j</td>\n",
       "      <td>-0.639959-0.924365j</td>\n",
       "      <td>0.784347-3.210165j</td>\n",
       "    </tr>\n",
       "    <tr>\n",
       "      <th>3</th>\n",
       "      <td>1.952588+1.934793j</td>\n",
       "      <td>0.920680+2.618691j</td>\n",
       "      <td>0.973944+3.741347j</td>\n",
       "      <td>2.876060-2.088219j</td>\n",
       "      <td>-0.527763-2.557853j</td>\n",
       "      <td>-2.164806-3.276635j</td>\n",
       "      <td>1.179443-0.579192j</td>\n",
       "      <td>-0.456984+1.128327j</td>\n",
       "      <td>1.370030-2.736278j</td>\n",
       "      <td>0.555669-0.939764j</td>\n",
       "      <td>-3.006807+3.148893j</td>\n",
       "    </tr>\n",
       "    <tr>\n",
       "      <th>4</th>\n",
       "      <td>2.950026+1.965957j</td>\n",
       "      <td>-3.080754-2.792263j</td>\n",
       "      <td>-2.658655-0.281615j</td>\n",
       "      <td>2.725681+1.215200j</td>\n",
       "      <td>2.038561+2.478051j</td>\n",
       "      <td>-3.030243+1.138016j</td>\n",
       "      <td>2.632789-0.954668j</td>\n",
       "      <td>2.449873+3.041848j</td>\n",
       "      <td>3.104725+3.043487j</td>\n",
       "      <td>0.985231+0.971575j</td>\n",
       "      <td>-2.444612-1.054235j</td>\n",
       "    </tr>\n",
       "  </tbody>\n",
       "</table>\n",
       "</div>"
      ],
      "text/plain": [
       "              Rx_18dB             Rx_19dB             Rx_20dB  \\\n",
       "0  2.922743+1.563684j -2.349517-0.165806j -3.131523-0.453934j   \n",
       "1  3.664914-3.297701j  2.512704-0.802292j -1.867543-0.199805j   \n",
       "2 -0.927575-0.829744j -1.113728+0.961059j -2.328866+2.126594j   \n",
       "3  1.952588+1.934793j  0.920680+2.618691j  0.973944+3.741347j   \n",
       "4  2.950026+1.965957j -3.080754-2.792263j -2.658655-0.281615j   \n",
       "\n",
       "            Rx_21.5dB             Rx_23dB             Rx_25dB  \\\n",
       "0 -0.843933-0.245631j -1.425934+3.028946j -0.644922+1.306181j   \n",
       "1  1.423477-1.322961j -2.458962-0.133573j  2.485929+2.276223j   \n",
       "2  3.149439-2.865829j  0.274055-2.873713j -1.255186+3.043198j   \n",
       "3  2.876060-2.088219j -0.527763-2.557853j -2.164806-3.276635j   \n",
       "4  2.725681+1.215200j  2.038561+2.478051j -3.030243+1.138016j   \n",
       "\n",
       "              Rx_27dB             Rx_30dB             Rx_32dB  \\\n",
       "0 -0.660060+0.773723j  1.317205-2.685166j  0.840127+0.855696j   \n",
       "1  2.577275+1.983883j  3.286729-3.267752j -1.025953-0.201832j   \n",
       "2  2.875647+0.978071j  2.403130-0.912156j -2.984453+1.256289j   \n",
       "3  1.179443-0.579192j -0.456984+1.128327j  1.370030-2.736278j   \n",
       "4  2.632789-0.954668j  2.449873+3.041848j  3.104725+3.043487j   \n",
       "\n",
       "              Rx_35dB             Rx_40dB  \n",
       "0  1.154788-3.057620j  2.461340-0.940915j  \n",
       "1  0.423191-1.121941j -1.018135-0.860959j  \n",
       "2 -0.639959-0.924365j  0.784347-3.210165j  \n",
       "3  0.555669-0.939764j -3.006807+3.148893j  \n",
       "4  0.985231+0.971575j -2.444612-1.054235j  "
      ]
     },
     "execution_count": 3,
     "metadata": {},
     "output_type": "execute_result"
    }
   ],
   "source": [
    "SNR = [18, 19, 20, 21.5, 23, 25, 27, 30, 32, 35, 40]\n",
    "df = pd.DataFrame()\n",
    "for i in SNR:\n",
    "    if (i == 23) or (i == 25) or (i == 32):\n",
    "        rot = 0\n",
    "    elif (i == 18) or (i == 21.5) or (i == 27) or (i == 30):\n",
    "        rot = pi / 2\n",
    "    elif(i == 19) or (i == 20) or (i == 35):\n",
    "        rot = pi\n",
    "    else:\n",
    "        rot = 3 * pi / 2\n",
    "    data_rx = sio.loadmat(f'Distances\\\\16.5GHz\\\\16QAM_3x16GBd_consY{i}dB.mat')\n",
    "    data_rx = 3 * (data_rx['const_Y'] - data_rx['const_Y'].mean()) / data_rx['const_Y'].std()\n",
    "    df[f'Rx_{i}dB'] = np.transpose(data_rx * np.exp(1j * rot)).flatten()\n",
    "df.head()"
   ]
  },
  {
   "cell_type": "code",
   "execution_count": 4,
   "metadata": {},
   "outputs": [
    {
     "data": {
      "text/html": [
       "<div>\n",
       "<style scoped>\n",
       "    .dataframe tbody tr th:only-of-type {\n",
       "        vertical-align: middle;\n",
       "    }\n",
       "\n",
       "    .dataframe tbody tr th {\n",
       "        vertical-align: top;\n",
       "    }\n",
       "\n",
       "    .dataframe thead th {\n",
       "        text-align: right;\n",
       "    }\n",
       "</style>\n",
       "<table border=\"1\" class=\"dataframe\">\n",
       "  <thead>\n",
       "    <tr style=\"text-align: right;\">\n",
       "      <th></th>\n",
       "      <th>Tx</th>\n",
       "    </tr>\n",
       "  </thead>\n",
       "  <tbody>\n",
       "    <tr>\n",
       "      <th>0</th>\n",
       "      <td>3.0+3.0j</td>\n",
       "    </tr>\n",
       "    <tr>\n",
       "      <th>1</th>\n",
       "      <td>-3.0-3.0j</td>\n",
       "    </tr>\n",
       "    <tr>\n",
       "      <th>2</th>\n",
       "      <td>3.0-1.0j</td>\n",
       "    </tr>\n",
       "    <tr>\n",
       "      <th>3</th>\n",
       "      <td>-3.0+3.0j</td>\n",
       "    </tr>\n",
       "    <tr>\n",
       "      <th>4</th>\n",
       "      <td>-3.0+3.0j</td>\n",
       "    </tr>\n",
       "  </tbody>\n",
       "</table>\n",
       "</div>"
      ],
      "text/plain": [
       "         Tx\n",
       "0  3.0+3.0j\n",
       "1 -3.0-3.0j\n",
       "2  3.0-1.0j\n",
       "3 -3.0+3.0j\n",
       "4 -3.0+3.0j"
      ]
     },
     "execution_count": 4,
     "metadata": {},
     "output_type": "execute_result"
    }
   ],
   "source": [
    "# Datos experimentales transmitidos (Tx)\n",
    "data_tx = sio.loadmat('Distances\\\\2x16QAM_16GBd.mat')\n",
    "data_tx = data_tx['Constellation'].flatten()[0][0]\n",
    "df_tx = pd.DataFrame(np.transpose(data_tx), columns = ['Tx'])\n",
    "df_tx.head()"
   ]
  },
  {
   "cell_type": "code",
   "execution_count": 5,
   "metadata": {},
   "outputs": [],
   "source": [
    "sync_tx = [sync_signals(df_tx['Tx'], df[f'Rx_{i}dB']) for i in SNR]"
   ]
  },
  {
   "cell_type": "code",
   "execution_count": 6,
   "metadata": {},
   "outputs": [],
   "source": [
    "y = [demodulate(sync_tx[i]) for i in range(len(SNR))]"
   ]
  },
  {
   "attachments": {},
   "cell_type": "markdown",
   "metadata": {},
   "source": [
    "## Preparación de los datos"
   ]
  },
  {
   "cell_type": "code",
   "execution_count": 7,
   "metadata": {},
   "outputs": [],
   "source": [
    "Xr = [np.real(df[f'Rx_{i}dB']) for i in SNR]\n",
    "Xi = [np.imag(df[f'Rx_{i}dB']) for i in SNR]"
   ]
  },
  {
   "cell_type": "code",
   "execution_count": 8,
   "metadata": {},
   "outputs": [],
   "source": [
    "X = [np.transpose(np.array([Xr[i], Xi[i]])) for i in range(len(SNR))]"
   ]
  },
  {
   "attachments": {},
   "cell_type": "markdown",
   "metadata": {},
   "source": [
    "## Método convencional"
   ]
  },
  {
   "cell_type": "code",
   "execution_count": 9,
   "metadata": {},
   "outputs": [],
   "source": [
    "\n",
    "# Se demapean los datos extraidos del canal con ruido\n",
    "sym_rx = [demapper_sym(Xr[i], Xi[i], len(Xr[i]), threshold = 2.0) for i in range(len(SNR))]"
   ]
  },
  {
   "cell_type": "code",
   "execution_count": 10,
   "metadata": {},
   "outputs": [],
   "source": [
    "ber_conventional = []\n",
    "for i in range(len(SNR)):\n",
    "  ber, ber_error = bit_error_rate(y[i], sym_rx[i])\n",
    "  ber_conventional.append(ber)"
   ]
  },
  {
   "attachments": {},
   "cell_type": "markdown",
   "metadata": {},
   "source": [
    "## Modelo KNN"
   ]
  },
  {
   "cell_type": "code",
   "execution_count": 11,
   "metadata": {},
   "outputs": [],
   "source": [
    "ber_knn = []\n",
    "for it in range(len(SNR)):\n",
    "    # Dividir los datos en conjuntos de entrenamiento y prueba\n",
    "    X_train, X_test, y_train, y_test = train_test_split(X[it], y[it], test_size=0.4)\n",
    "\n",
    "    # Instanciar el modelo k-NN\n",
    "    model = KNeighborsClassifier(n_neighbors=5)\n",
    "\n",
    "    # Entrenar el modelo con los datos de entrenamiento\n",
    "    model.fit(X_train, y_train)\n",
    "\n",
    "    # Calcular la precisión del modelo en los datos de prueba\n",
    "    y_pred = model.predict(X_test)\n",
    "    #print(\"Accuracy:\", metrics.accuracy_score(y_test, y_pred))\n",
    "\n",
    "    # Calcular Tasa de Error de Bit\n",
    "    ber, ber_error = bit_error_rate(y_test, y_pred)\n",
    "    ber_knn.append(ber)"
   ]
  },
  {
   "attachments": {},
   "cell_type": "markdown",
   "metadata": {},
   "source": [
    "## Modelo SVM"
   ]
  },
  {
   "cell_type": "code",
   "execution_count": 12,
   "metadata": {},
   "outputs": [],
   "source": [
    "ber_svm = []\n",
    "for it in range(len(SNR)):\n",
    "    # Dividir los datos en conjuntos de entrenamiento y prueba\n",
    "    X_train, X_test, y_train, y_test = train_test_split(X[it], y[it], test_size=0.4)\n",
    "\n",
    "    # Instanciar el modelo SVC\n",
    "    model = SVC()\n",
    "\n",
    "    # Entrenar el modelo con los datos de entrenamiento\n",
    "    model.fit(X_train, y_train)\n",
    "\n",
    "    # Calcular la precisión del modelo en los datos de prueba\n",
    "    y_pred = model.predict(X_test)\n",
    "    #print(\"Accuracy:\", metrics.accuracy_score(y_test, y_pred))\n",
    "\n",
    "    # Calcular Tasa de Error de Bit\n",
    "    ber, ber_error = bit_error_rate(y_test, y_pred)\n",
    "    ber_svm.append(ber)"
   ]
  },
  {
   "attachments": {},
   "cell_type": "markdown",
   "metadata": {},
   "source": [
    "## Arboles de decisión"
   ]
  },
  {
   "cell_type": "code",
   "execution_count": 13,
   "metadata": {},
   "outputs": [],
   "source": [
    "ber_tree = []\n",
    "for it in range(len(SNR)):\n",
    "    # Dividir los datos en conjuntos de entrenamiento y prueba\n",
    "    X_train, X_test, y_train, y_test = train_test_split(X[it], y[it], test_size=0.4)\n",
    "\n",
    "    # Instanciar el modelo de arboles de decisión\n",
    "    model = DecisionTreeClassifier()\n",
    "\n",
    "    # Entrenar el modelo con los datos de entrenamiento\n",
    "    model.fit(X_train, y_train)\n",
    "\n",
    "    # Calcular la precisión del modelo en los datos de prueba\n",
    "    y_pred = model.predict(X_test)\n",
    "    #print(\"Accuracy:\", metrics.accuracy_score(y_test, y_pred))\n",
    "\n",
    "    # Calcular Tasa de Error de Bit\n",
    "    ber, ber_error = bit_error_rate(y_test, y_pred)\n",
    "    ber_tree.append(ber)"
   ]
  },
  {
   "attachments": {},
   "cell_type": "markdown",
   "metadata": {},
   "source": [
    "## Comparación entre los modelos"
   ]
  },
  {
   "cell_type": "code",
   "execution_count": 14,
   "metadata": {},
   "outputs": [
    {
     "data": {
      "image/png": "[encoded data removed]",
      "text/plain": [
       "<Figure size 640x480 with 1 Axes>"
      ]
     },
     "metadata": {},
     "output_type": "display_data"
    }
   ],
   "source": [
    "plt.plot(SNR, np.log10(ber_conventional), marker='p', label='Convencional')\n",
    "plt.plot(SNR, np.log10(ber_knn), marker='o', label='KNN (5 vecinos)')\n",
    "plt.plot(SNR, np.log10(ber_svm), marker='^', label='SVM')\n",
    "plt.plot(SNR, np.log10(ber_tree), marker='s', label='DTL')\n",
    "plt.title('16.5GHz traslapamiento con 0.4 de prueba')\n",
    "plt.xlabel('$SNR$')\n",
    "plt.ylabel('$Log_{10}(BER)$')\n",
    "plt.legend()\n",
    "plt.grid()\n",
    "plt.show()"
   ]
  }
 ],
 "metadata": {
  "kernelspec": {
   "display_name": "base",
   "language": "python",
   "name": "python3"
  },
  "language_info": {
   "codemirror_mode": {
    "name": "ipython",
    "version": 3
   },
   "file_extension": ".py",
   "mimetype": "text/x-python",
   "name": "python",
   "nbconvert_exporter": "python",
   "pygments_lexer": "ipython3",
   "version": "3.9.13"
  },
  "orig_nbformat": 4,
  "vscode": {
   "interpreter": {
    "hash": "5ce9d49d1db7e2be872b3025ad08649992f53292826e9d18a778168b6f741ddf"
   }
  }
 },
 "nbformat": 4,
 "nbformat_minor": 2
}
