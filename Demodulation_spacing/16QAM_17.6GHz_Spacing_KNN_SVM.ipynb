{
 "cells": [
  {
   "attachments": {},
   "cell_type": "markdown",
   "metadata": {},
   "source": [
    "# Demodulación con tralapamiento de 17.6GHz usando KNN y SVM"
   ]
  },
  {
   "cell_type": "code",
   "execution_count": 1,
   "metadata": {},
   "outputs": [],
   "source": [
    "import numpy as np\n",
    "import matplotlib.pyplot as plt\n",
    "import pandas as pd\n",
    "import scipy.io as sio\n",
    "import warnings\n",
    "from numpy import pi\n",
    "from sklearn.neighbors import KNeighborsClassifier\n",
    "from sklearn.svm import SVC\n",
    "from sklearn.tree import DecisionTreeClassifier\n",
    "from sklearn.model_selection import GridSearchCV\n",
    "from sklearn.model_selection import train_test_split\n",
    "from sklearn import metrics\n",
    "from sofa_sem import *"
   ]
  },
  {
   "cell_type": "code",
   "execution_count": 2,
   "metadata": {},
   "outputs": [],
   "source": [
    "warnings.filterwarnings(\"ignore\", category=FutureWarning)"
   ]
  },
  {
   "cell_type": "code",
   "execution_count": 3,
   "metadata": {},
   "outputs": [
    {
     "data": {
      "text/html": [
       "<div>\n",
       "<style scoped>\n",
       "    .dataframe tbody tr th:only-of-type {\n",
       "        vertical-align: middle;\n",
       "    }\n",
       "\n",
       "    .dataframe tbody tr th {\n",
       "        vertical-align: top;\n",
       "    }\n",
       "\n",
       "    .dataframe thead th {\n",
       "        text-align: right;\n",
       "    }\n",
       "</style>\n",
       "<table border=\"1\" class=\"dataframe\">\n",
       "  <thead>\n",
       "    <tr style=\"text-align: right;\">\n",
       "      <th></th>\n",
       "      <th>Rx_18dB</th>\n",
       "      <th>Rx_19dB</th>\n",
       "      <th>Rx_20dB</th>\n",
       "      <th>Rx_21.5dB</th>\n",
       "      <th>Rx_23dB</th>\n",
       "      <th>Rx_25dB</th>\n",
       "      <th>Rx_27dB</th>\n",
       "      <th>Rx_30dB</th>\n",
       "      <th>Rx_32dB</th>\n",
       "      <th>Rx_35dB</th>\n",
       "      <th>Rx_40dB</th>\n",
       "    </tr>\n",
       "  </thead>\n",
       "  <tbody>\n",
       "    <tr>\n",
       "      <th>0</th>\n",
       "      <td>-1.626492-2.276238j</td>\n",
       "      <td>-3.067255-2.386235j</td>\n",
       "      <td>-0.991821+3.327793j</td>\n",
       "      <td>-0.641464-2.795975j</td>\n",
       "      <td>1.030519+1.216022j</td>\n",
       "      <td>1.362733-1.011730j</td>\n",
       "      <td>0.350971+3.107882j</td>\n",
       "      <td>-2.557394-1.048550j</td>\n",
       "      <td>2.956327-2.773451j</td>\n",
       "      <td>-3.014899-2.306891j</td>\n",
       "      <td>2.828578-0.528511j</td>\n",
       "    </tr>\n",
       "    <tr>\n",
       "      <th>1</th>\n",
       "      <td>2.105216+0.564304j</td>\n",
       "      <td>1.329848-0.520526j</td>\n",
       "      <td>1.079530-1.034995j</td>\n",
       "      <td>0.980756-0.598601j</td>\n",
       "      <td>2.300576-1.181632j</td>\n",
       "      <td>0.953809-0.894247j</td>\n",
       "      <td>3.192750-0.796437j</td>\n",
       "      <td>3.269885-0.951876j</td>\n",
       "      <td>1.122311-0.963413j</td>\n",
       "      <td>-0.376329-1.230109j</td>\n",
       "      <td>-0.914368-1.013349j</td>\n",
       "    </tr>\n",
       "    <tr>\n",
       "      <th>2</th>\n",
       "      <td>-1.502568-0.461938j</td>\n",
       "      <td>-0.529428-2.370793j</td>\n",
       "      <td>2.001683-0.050677j</td>\n",
       "      <td>2.327231+1.570579j</td>\n",
       "      <td>2.413613-3.292016j</td>\n",
       "      <td>-1.041223-2.808904j</td>\n",
       "      <td>-1.027732-0.736211j</td>\n",
       "      <td>-3.172217+2.878930j</td>\n",
       "      <td>-0.842271-0.825502j</td>\n",
       "      <td>0.975790-0.877451j</td>\n",
       "      <td>-0.638947-0.789444j</td>\n",
       "    </tr>\n",
       "    <tr>\n",
       "      <th>3</th>\n",
       "      <td>0.630973-2.299316j</td>\n",
       "      <td>0.584606+0.878542j</td>\n",
       "      <td>-3.493043+2.015965j</td>\n",
       "      <td>-2.900900-1.449225j</td>\n",
       "      <td>-2.678520-2.057911j</td>\n",
       "      <td>0.062483+2.639000j</td>\n",
       "      <td>-2.437699-1.021427j</td>\n",
       "      <td>1.184870-1.031015j</td>\n",
       "      <td>-0.937304-0.698437j</td>\n",
       "      <td>-2.611427-1.325507j</td>\n",
       "      <td>2.651689-1.137963j</td>\n",
       "    </tr>\n",
       "    <tr>\n",
       "      <th>4</th>\n",
       "      <td>2.672307+0.927133j</td>\n",
       "      <td>-1.085365-2.180546j</td>\n",
       "      <td>3.074910+1.670417j</td>\n",
       "      <td>-0.893978-0.839459j</td>\n",
       "      <td>-0.555547-3.322574j</td>\n",
       "      <td>-0.772407+3.066999j</td>\n",
       "      <td>-0.945729-2.821320j</td>\n",
       "      <td>0.431000+2.620946j</td>\n",
       "      <td>2.856735-3.140244j</td>\n",
       "      <td>0.893011-0.900371j</td>\n",
       "      <td>-2.928027+1.153818j</td>\n",
       "    </tr>\n",
       "  </tbody>\n",
       "</table>\n",
       "</div>"
      ],
      "text/plain": [
       "              Rx_18dB             Rx_19dB             Rx_20dB  \\\n",
       "0 -1.626492-2.276238j -3.067255-2.386235j -0.991821+3.327793j   \n",
       "1  2.105216+0.564304j  1.329848-0.520526j  1.079530-1.034995j   \n",
       "2 -1.502568-0.461938j -0.529428-2.370793j  2.001683-0.050677j   \n",
       "3  0.630973-2.299316j  0.584606+0.878542j -3.493043+2.015965j   \n",
       "4  2.672307+0.927133j -1.085365-2.180546j  3.074910+1.670417j   \n",
       "\n",
       "            Rx_21.5dB             Rx_23dB             Rx_25dB  \\\n",
       "0 -0.641464-2.795975j  1.030519+1.216022j  1.362733-1.011730j   \n",
       "1  0.980756-0.598601j  2.300576-1.181632j  0.953809-0.894247j   \n",
       "2  2.327231+1.570579j  2.413613-3.292016j -1.041223-2.808904j   \n",
       "3 -2.900900-1.449225j -2.678520-2.057911j  0.062483+2.639000j   \n",
       "4 -0.893978-0.839459j -0.555547-3.322574j -0.772407+3.066999j   \n",
       "\n",
       "              Rx_27dB             Rx_30dB             Rx_32dB  \\\n",
       "0  0.350971+3.107882j -2.557394-1.048550j  2.956327-2.773451j   \n",
       "1  3.192750-0.796437j  3.269885-0.951876j  1.122311-0.963413j   \n",
       "2 -1.027732-0.736211j -3.172217+2.878930j -0.842271-0.825502j   \n",
       "3 -2.437699-1.021427j  1.184870-1.031015j -0.937304-0.698437j   \n",
       "4 -0.945729-2.821320j  0.431000+2.620946j  2.856735-3.140244j   \n",
       "\n",
       "              Rx_35dB             Rx_40dB  \n",
       "0 -3.014899-2.306891j  2.828578-0.528511j  \n",
       "1 -0.376329-1.230109j -0.914368-1.013349j  \n",
       "2  0.975790-0.877451j -0.638947-0.789444j  \n",
       "3 -2.611427-1.325507j  2.651689-1.137963j  \n",
       "4  0.893011-0.900371j -2.928027+1.153818j  "
      ]
     },
     "execution_count": 3,
     "metadata": {},
     "output_type": "execute_result"
    }
   ],
   "source": [
    "SNR = [18, 19, 20, 21.5, 23, 25, 27, 30, 32, 35, 40]\n",
    "df = pd.DataFrame()\n",
    "for i in SNR:\n",
    "    rot = 3 * pi / 2\n",
    "    if (i == 32) or (i == 35) or (i == 40):\n",
    "        rot = 0\n",
    "    elif (i == 19) or (i == 21.5) or (i == 25) or (i == 30):\n",
    "        rot = pi / 2\n",
    "    elif (i == 20) or (i == 27):\n",
    "        rot = pi\n",
    "    data_rx = sio.loadmat(f'Distances\\\\17.6GHz\\\\16QAM_3x16GBd_consY{i}dB.mat')\n",
    "    data_rx = 3 * (data_rx['const_Y'] - data_rx['const_Y'].mean()) / data_rx['const_Y'].std()\n",
    "    df[f'Rx_{i}dB'] = np.transpose(data_rx * np.exp(1j * rot)).flatten()\n",
    "df.head()"
   ]
  },
  {
   "cell_type": "code",
   "execution_count": 4,
   "metadata": {},
   "outputs": [
    {
     "data": {
      "text/html": [
       "<div>\n",
       "<style scoped>\n",
       "    .dataframe tbody tr th:only-of-type {\n",
       "        vertical-align: middle;\n",
       "    }\n",
       "\n",
       "    .dataframe tbody tr th {\n",
       "        vertical-align: top;\n",
       "    }\n",
       "\n",
       "    .dataframe thead th {\n",
       "        text-align: right;\n",
       "    }\n",
       "</style>\n",
       "<table border=\"1\" class=\"dataframe\">\n",
       "  <thead>\n",
       "    <tr style=\"text-align: right;\">\n",
       "      <th></th>\n",
       "      <th>Tx</th>\n",
       "    </tr>\n",
       "  </thead>\n",
       "  <tbody>\n",
       "    <tr>\n",
       "      <th>0</th>\n",
       "      <td>3.0+3.0j</td>\n",
       "    </tr>\n",
       "    <tr>\n",
       "      <th>1</th>\n",
       "      <td>-3.0-3.0j</td>\n",
       "    </tr>\n",
       "    <tr>\n",
       "      <th>2</th>\n",
       "      <td>3.0-1.0j</td>\n",
       "    </tr>\n",
       "    <tr>\n",
       "      <th>3</th>\n",
       "      <td>-3.0+3.0j</td>\n",
       "    </tr>\n",
       "    <tr>\n",
       "      <th>4</th>\n",
       "      <td>-3.0+3.0j</td>\n",
       "    </tr>\n",
       "  </tbody>\n",
       "</table>\n",
       "</div>"
      ],
      "text/plain": [
       "         Tx\n",
       "0  3.0+3.0j\n",
       "1 -3.0-3.0j\n",
       "2  3.0-1.0j\n",
       "3 -3.0+3.0j\n",
       "4 -3.0+3.0j"
      ]
     },
     "execution_count": 4,
     "metadata": {},
     "output_type": "execute_result"
    }
   ],
   "source": [
    "# Datos experimentales transmitidos (Tx)\n",
    "data_tx = sio.loadmat('Distances\\\\2x16QAM_16GBd.mat')\n",
    "data_tx = data_tx['Constellation'].flatten()[0][0]\n",
    "df_tx = pd.DataFrame(np.transpose(data_tx), columns = ['Tx'])\n",
    "df_tx.head()"
   ]
  },
  {
   "cell_type": "code",
   "execution_count": 5,
   "metadata": {},
   "outputs": [],
   "source": [
    "sync_tx = [sync_signals(df_tx['Tx'], df[f'Rx_{i}dB']) for i in SNR]"
   ]
  },
  {
   "cell_type": "code",
   "execution_count": 6,
   "metadata": {},
   "outputs": [],
   "source": [
    "y = [demodulate(sync_tx[i]) for i in range(len(SNR))]"
   ]
  },
  {
   "attachments": {},
   "cell_type": "markdown",
   "metadata": {},
   "source": [
    "## Preparación de los datos"
   ]
  },
  {
   "cell_type": "code",
   "execution_count": 7,
   "metadata": {},
   "outputs": [],
   "source": [
    "Xr = [np.real(df[f'Rx_{i}dB']) for i in SNR]\n",
    "Xi = [np.imag(df[f'Rx_{i}dB']) for i in SNR]"
   ]
  },
  {
   "cell_type": "code",
   "execution_count": 8,
   "metadata": {},
   "outputs": [],
   "source": [
    "X = [np.transpose(np.array([Xr[i], Xi[i]])) for i in range(len(SNR))]"
   ]
  },
  {
   "attachments": {},
   "cell_type": "markdown",
   "metadata": {},
   "source": [
    "## Método convencional"
   ]
  },
  {
   "cell_type": "code",
   "execution_count": 9,
   "metadata": {},
   "outputs": [],
   "source": [
    "\n",
    "# Se demapean los datos extraidos del canal con ruido\n",
    "sym_rx = [demapper_sym(Xr[i], Xi[i], len(Xr[i]), threshold = 2.0) for i in range(len(SNR))]"
   ]
  },
  {
   "cell_type": "code",
   "execution_count": 10,
   "metadata": {},
   "outputs": [],
   "source": [
    "ber_conventional = []\n",
    "for i in range(len(SNR)):\n",
    "  ber, ber_error = bit_error_rate(y[i], sym_rx[i])\n",
    "  ber_conventional.append(ber)"
   ]
  },
  {
   "attachments": {},
   "cell_type": "markdown",
   "metadata": {},
   "source": [
    "## Modelo KNN"
   ]
  },
  {
   "cell_type": "code",
   "execution_count": 11,
   "metadata": {},
   "outputs": [],
   "source": [
    "ber_knn = []\n",
    "for it in range(len(SNR)):\n",
    "    # Dividir los datos en conjuntos de entrenamiento y prueba\n",
    "    X_train, X_test, y_train, y_test = train_test_split(X[it], y[it], test_size=0.4)\n",
    "\n",
    "    # Instanciar el modelo k-NN\n",
    "    model = KNeighborsClassifier(n_neighbors=5)\n",
    "\n",
    "    # Entrenar el modelo con los datos de entrenamiento\n",
    "    model.fit(X_train, y_train)\n",
    "\n",
    "    # Calcular la precisión del modelo en los datos de prueba\n",
    "    y_pred = model.predict(X_test)\n",
    "    #print(\"Accuracy:\", metrics.accuracy_score(y_test, y_pred))\n",
    "\n",
    "    # Calcular Tasa de Error de Bit\n",
    "    ber, ber_error = bit_error_rate(y_test, y_pred)\n",
    "    ber_knn.append(ber)"
   ]
  },
  {
   "attachments": {},
   "cell_type": "markdown",
   "metadata": {},
   "source": [
    "## Modelo SVM"
   ]
  },
  {
   "cell_type": "code",
   "execution_count": 12,
   "metadata": {},
   "outputs": [],
   "source": [
    "ber_svm = []\n",
    "for it in range(len(SNR)):\n",
    "    # Dividir los datos en conjuntos de entrenamiento y prueba\n",
    "    X_train, X_test, y_train, y_test = train_test_split(X[it], y[it], test_size=0.4)\n",
    "\n",
    "    # Instanciar el modelo SVC\n",
    "    model = SVC()\n",
    "\n",
    "    # Entrenar el modelo con los datos de entrenamiento\n",
    "    model.fit(X_train, y_train)\n",
    "\n",
    "    # Calcular la precisión del modelo en los datos de prueba\n",
    "    y_pred = model.predict(X_test)\n",
    "    #print(\"Accuracy:\", metrics.accuracy_score(y_test, y_pred))\n",
    "\n",
    "    # Calcular Tasa de Error de Bit\n",
    "    ber, ber_error = bit_error_rate(y_test, y_pred)\n",
    "    ber_svm.append(ber)"
   ]
  },
  {
   "attachments": {},
   "cell_type": "markdown",
   "metadata": {},
   "source": [
    "## Arboles de decisión"
   ]
  },
  {
   "cell_type": "code",
   "execution_count": 13,
   "metadata": {},
   "outputs": [],
   "source": [
    "ber_tree = []\n",
    "for it in range(len(SNR)):\n",
    "    # Dividir los datos en conjuntos de entrenamiento y prueba\n",
    "    X_train, X_test, y_train, y_test = train_test_split(X[it], y[it], test_size=0.4)\n",
    "\n",
    "    # Instanciar el modelo de arboles de decisión\n",
    "    model = DecisionTreeClassifier()\n",
    "\n",
    "    # Entrenar el modelo con los datos de entrenamiento\n",
    "    model.fit(X_train, y_train)\n",
    "\n",
    "    # Calcular la precisión del modelo en los datos de prueba\n",
    "    y_pred = model.predict(X_test)\n",
    "    #print(\"Accuracy:\", metrics.accuracy_score(y_test, y_pred))\n",
    "\n",
    "    # Calcular Tasa de Error de Bit\n",
    "    ber, ber_error = bit_error_rate(y_test, y_pred)\n",
    "    ber_tree.append(ber)"
   ]
  },
  {
   "attachments": {},
   "cell_type": "markdown",
   "metadata": {},
   "source": [
    "## Comparación entre los modelos"
   ]
  },
  {
   "cell_type": "code",
   "execution_count": 15,
   "metadata": {},
   "outputs": [
    {
     "data": {
      "image/png": "[encoded data removed]",
      "text/plain": [
       "<Figure size 640x480 with 1 Axes>"
      ]
     },
     "metadata": {},
     "output_type": "display_data"
    }
   ],
   "source": [
    "plt.plot(SNR, np.log10(ber_conventional), marker='p', label='Convencional')\n",
    "plt.plot(SNR, np.log10(ber_knn), marker='o', label='KNN (5 vecinos)')\n",
    "plt.plot(SNR, np.log10(ber_svm), marker='^', label='SVM')\n",
    "plt.plot(SNR, np.log10(ber_tree), marker='s', label='DTL')\n",
    "plt.title('17.6GHz traslapamiento con 0.4 de prueba')\n",
    "plt.xlabel('$SNR$')\n",
    "plt.ylabel('$Log_{10}(BER)$')\n",
    "plt.legend()\n",
    "plt.grid()\n",
    "plt.show()"
   ]
  }
 ],
 "metadata": {
  "kernelspec": {
   "display_name": "base",
   "language": "python",
   "name": "python3"
  },
  "language_info": {
   "codemirror_mode": {
    "name": "ipython",
    "version": 3
   },
   "file_extension": ".py",
   "mimetype": "text/x-python",
   "name": "python",
   "nbconvert_exporter": "python",
   "pygments_lexer": "ipython3",
   "version": "3.9.13"
  },
  "orig_nbformat": 4,
  "vscode": {
   "interpreter": {
    "hash": "5ce9d49d1db7e2be872b3025ad08649992f53292826e9d18a778168b6f741ddf"
   }
  }
 },
 "nbformat": 4,
 "nbformat_minor": 2
}
